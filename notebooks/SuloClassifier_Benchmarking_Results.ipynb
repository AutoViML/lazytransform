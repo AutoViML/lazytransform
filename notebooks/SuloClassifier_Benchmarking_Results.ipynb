{
 "cells": [
  {
   "cell_type": "markdown",
   "metadata": {},
   "source": [
    "# This notebook shows how a SuloClassifier beat a single model as well as a Voting classifier due to its superior design"
   ]
  },
  {
   "cell_type": "markdown",
   "metadata": {},
   "source": [
    "### We are going to test it on a large dataset using the sample example code provided by:\n",
    "https://machinelearningmastery.com/weighted-average-ensemble-with-python/\n",
    "Thanks to Jason Brownlee for his Machine Learning Mastery blogs. He is absolutely great!"
   ]
  },
  {
   "cell_type": "code",
   "execution_count": 1,
   "metadata": {
    "execution": {
     "iopub.execute_input": "2022-04-13T11:27:34.843421Z",
     "iopub.status.busy": "2022-04-13T11:27:34.843049Z",
     "iopub.status.idle": "2022-04-13T11:27:35.510175Z",
     "shell.execute_reply": "2022-04-13T11:27:35.509371Z",
     "shell.execute_reply.started": "2022-04-13T11:27:34.843365Z"
    }
   },
   "outputs": [
    {
     "name": "stdout",
     "output_type": "stream",
     "text": [
      "Imported lazytransform v1.13.\n",
      "\n"
     ]
    }
   ],
   "source": [
    "import pandas as pd\n",
    "import numpy as np\n",
    "import matplotlib.pyplot as plt\n",
    "import seaborn as sns\n",
    "%matplotlib inline\n",
    "from lazytransform import SuloClassifier, LazyTransformer"
   ]
  },
  {
   "cell_type": "code",
   "execution_count": 2,
   "metadata": {},
   "outputs": [],
   "source": [
    "transform_target = True\n",
    "lazy = LazyTransformer(transform_target=transform_target)"
   ]
  },
  {
   "cell_type": "code",
   "execution_count": 3,
   "metadata": {},
   "outputs": [],
   "source": [
    "datapath = '../data_sets/'\n",
    "filename = 'breast-cancer.csv'\n",
    "filename = 'machinefailuretype.csv'\n",
    "sep = ','"
   ]
  },
  {
   "cell_type": "code",
   "execution_count": 4,
   "metadata": {},
   "outputs": [
    {
     "name": "stdout",
     "output_type": "stream",
     "text": [
      "(10000, 10)\n"
     ]
    },
    {
     "data": {
      "text/html": [
       "<div>\n",
       "<style scoped>\n",
       "    .dataframe tbody tr th:only-of-type {\n",
       "        vertical-align: middle;\n",
       "    }\n",
       "\n",
       "    .dataframe tbody tr th {\n",
       "        vertical-align: top;\n",
       "    }\n",
       "\n",
       "    .dataframe thead th {\n",
       "        text-align: right;\n",
       "    }\n",
       "</style>\n",
       "<table border=\"1\" class=\"dataframe\">\n",
       "  <thead>\n",
       "    <tr style=\"text-align: right;\">\n",
       "      <th></th>\n",
       "      <th>udi</th>\n",
       "      <th>product</th>\n",
       "      <th>machinetype</th>\n",
       "      <th>airtemp</th>\n",
       "      <th>processtemperature</th>\n",
       "      <th>rotationalspeed</th>\n",
       "      <th>torque</th>\n",
       "      <th>toolwear</th>\n",
       "      <th>fail</th>\n",
       "      <th>failtype</th>\n",
       "    </tr>\n",
       "  </thead>\n",
       "  <tbody>\n",
       "    <tr>\n",
       "      <th>0</th>\n",
       "      <td>1</td>\n",
       "      <td>M14860</td>\n",
       "      <td>M</td>\n",
       "      <td>298.1</td>\n",
       "      <td>308.6</td>\n",
       "      <td>1551</td>\n",
       "      <td>42.8</td>\n",
       "      <td>0</td>\n",
       "      <td>0</td>\n",
       "      <td>No Failure</td>\n",
       "    </tr>\n",
       "    <tr>\n",
       "      <th>1</th>\n",
       "      <td>2</td>\n",
       "      <td>L47181</td>\n",
       "      <td>L</td>\n",
       "      <td>298.2</td>\n",
       "      <td>308.7</td>\n",
       "      <td>1408</td>\n",
       "      <td>46.3</td>\n",
       "      <td>3</td>\n",
       "      <td>0</td>\n",
       "      <td>No Failure</td>\n",
       "    </tr>\n",
       "    <tr>\n",
       "      <th>2</th>\n",
       "      <td>3</td>\n",
       "      <td>L47182</td>\n",
       "      <td>L</td>\n",
       "      <td>298.1</td>\n",
       "      <td>308.5</td>\n",
       "      <td>1498</td>\n",
       "      <td>49.4</td>\n",
       "      <td>5</td>\n",
       "      <td>0</td>\n",
       "      <td>No Failure</td>\n",
       "    </tr>\n",
       "    <tr>\n",
       "      <th>3</th>\n",
       "      <td>4</td>\n",
       "      <td>L47183</td>\n",
       "      <td>L</td>\n",
       "      <td>298.2</td>\n",
       "      <td>308.6</td>\n",
       "      <td>1433</td>\n",
       "      <td>39.5</td>\n",
       "      <td>7</td>\n",
       "      <td>0</td>\n",
       "      <td>No Failure</td>\n",
       "    </tr>\n",
       "    <tr>\n",
       "      <th>4</th>\n",
       "      <td>5</td>\n",
       "      <td>L47184</td>\n",
       "      <td>L</td>\n",
       "      <td>298.2</td>\n",
       "      <td>308.7</td>\n",
       "      <td>1408</td>\n",
       "      <td>40.0</td>\n",
       "      <td>9</td>\n",
       "      <td>0</td>\n",
       "      <td>No Failure</td>\n",
       "    </tr>\n",
       "  </tbody>\n",
       "</table>\n",
       "</div>"
      ],
      "text/plain": [
       "   udi product machinetype  airtemp  processtemperature  rotationalspeed  \\\n",
       "0    1  M14860           M    298.1               308.6             1551   \n",
       "1    2  L47181           L    298.2               308.7             1408   \n",
       "2    3  L47182           L    298.1               308.5             1498   \n",
       "3    4  L47183           L    298.2               308.6             1433   \n",
       "4    5  L47184           L    298.2               308.7             1408   \n",
       "\n",
       "   torque  toolwear  fail    failtype  \n",
       "0    42.8         0     0  No Failure  \n",
       "1    46.3         3     0  No Failure  \n",
       "2    49.4         5     0  No Failure  \n",
       "3    39.5         7     0  No Failure  \n",
       "4    40.0         9     0  No Failure  "
      ]
     },
     "execution_count": 4,
     "metadata": {},
     "output_type": "execute_result"
    }
   ],
   "source": [
    "df = pd.read_csv(datapath+filename, sep=sep, header=0)\n",
    "print(df.shape)\n",
    "df.head()"
   ]
  },
  {
   "cell_type": "code",
   "execution_count": 5,
   "metadata": {},
   "outputs": [
    {
     "data": {
      "text/plain": [
       "((10000, 9), (10000,))"
      ]
     },
     "execution_count": 5,
     "metadata": {},
     "output_type": "execute_result"
    }
   ],
   "source": [
    "target = 'failtype'\n",
    "preds = [x for x in list(df) if x not in [target]]\n",
    "X = df[preds]\n",
    "y = df[target]\n",
    "X.shape, y.shape"
   ]
  },
  {
   "cell_type": "code",
   "execution_count": null,
   "metadata": {},
   "outputs": [],
   "source": [
    "# evaluate a weighted average ensemble for classification compared to base model\n",
    "from sklearn.datasets import make_classification\n",
    "from sklearn.model_selection import train_test_split\n",
    "from sklearn.metrics import accuracy_score, balanced_accuracy_score\n",
    "from sklearn.linear_model import LogisticRegression\n",
    "from sklearn.tree import DecisionTreeClassifier\n",
    "from sklearn.naive_bayes import GaussianNB\n",
    "from sklearn.ensemble import VotingClassifier\n",
    "from lightgbm import LGBMClassifier\n",
    "from sklearn.ensemble import RandomForestClassifier\n",
    "\n",
    "# get a list of base models\n",
    "bayes = GaussianNB()\n",
    "def get_models():\n",
    "\tmodels = list()\n",
    "\tmodels.append(('lr', LogisticRegression()))\n",
    "\tmodels.append(('LGBM', LGBMClassifier(random_state=0, n_estimators=100)))\n",
    "\tmodels.append(('bayes', GaussianNB()))\n",
    "\treturn models\n",
    " \n",
    "# evaluate each base model\n",
    "def evaluate_models(models, X_train, X_val, y_train, y_val):\n",
    "\t# fit and evaluate the models\n",
    "\tscores = list()\n",
    "\tfor name, model in models:\n",
    "\t\t# fit the model\n",
    "\t\tif name == 'SuloClassifier':\n",
    "\t\t\tmodel.fit(pd.DataFrame(X_train), pd.Series(y_train))\n",
    "\t\telse:\n",
    "\t\t\tmodel.fit(X_train, y_train)\n",
    "\t\t# evaluate the model\n",
    "\t\tyhat = model.predict(X_val)\n",
    "\t\tacc = balanced_accuracy_score(y_val, yhat)\n",
    "\t\t# store the performance\n",
    "\t\tscores.append(acc)\n",
    "\t\t# report model performance\n",
    "\treturn scores\n",
    " \n",
    "# define dataset\n",
    "#X, y = make_classification(n_samples=100000, n_features=50, n_informative=40, n_redundant=5, random_state=7)\n",
    "\n",
    "# split dataset into train and test sets\n",
    "X_train_full, X_test, y_train_full, y_test = train_test_split(X, y, test_size=0.50, random_state=1)"
   ]
  },
  {
   "cell_type": "code",
   "execution_count": 6,
   "metadata": {
    "scrolled": false
   },
   "outputs": [
    {
     "name": "stdout",
     "output_type": "stream",
     "text": [
      "    Single_Label Multi_Classification problem \n",
      "Shape of dataset: (3350, 9). Now we classify variables into different types...\n",
      "Time taken to define data pipeline = 1 second(s)\n",
      "No model input given...\n",
      "Lazy Transformer Pipeline created...\n",
      "    transformed target from object type to numeric\n",
      "    Time taken to fit dataset = 1 second(s)\n",
      "    Time taken to transform dataset = 1 second(s)\n",
      "    Shape of transformed dataset: (3350, 11)\n",
      "    Time taken to transform dataset = 1 second(s)\n",
      "    Shape of transformed dataset: (1650, 11)\n",
      "Input data shapes: X = (3350, 11)\n",
      "    y shape = (3350,)\n",
      "No GPU available on this device. Using CPU for lightgbm and others.\n",
      "    Number of estimators used in SuloClassifier = 5\n"
     ]
    },
    {
     "name": "stderr",
     "output_type": "stream",
     "text": [
      "\r",
      "k-fold training:   0%|                                                          | 0/5 [00:00<?, ?it/s]"
     ]
    },
    {
     "name": "stdout",
     "output_type": "stream",
     "text": [
      "No HPT tuning performed since base estimator is given by input...\n"
     ]
    },
    {
     "name": "stderr",
     "output_type": "stream",
     "text": [
      "k-fold training: 100%|██████████████████████████████████████████████████| 5/5 [00:02<00:00,  1.86it/s]\n"
     ]
    },
    {
     "name": "stdout",
     "output_type": "stream",
     "text": [
      "Final balanced Accuracy of 5-estimator SuloClassifier: 83.7%\n",
      "Time Taken: 3 (seconds)\n",
      "EvalScore for lr: 21.191\n",
      "EvalScore for LGBM: 71.058\n",
      "EvalScore for bayes: 74.012\n",
      "EvalScore for SuloClassifier: 69.931\n",
      "    Single_Label Multi_Classification problem \n",
      "Shape of dataset: (5000, 9). Now we classify variables into different types...\n",
      "Time taken to define data pipeline = 1 second(s)\n",
      "No model input given...\n",
      "Lazy Transformer Pipeline created...\n",
      "    transformed target from object type to numeric\n",
      "    Time taken to fit dataset = 1 second(s)\n",
      "    Time taken to transform dataset = 1 second(s)\n",
      "    Shape of transformed dataset: (5000, 11)\n",
      "    Time taken to transform dataset = 1 second(s)\n",
      "    Shape of transformed dataset: (5000, 11)\n",
      "Input data shapes: X = (5000, 11)\n",
      "    y shape = (5000,)\n",
      "No GPU available on this device. Using CPU for lightgbm and others.\n",
      "    Number of estimators used in SuloClassifier = 5\n"
     ]
    },
    {
     "name": "stderr",
     "output_type": "stream",
     "text": [
      "\r",
      "k-fold training:   0%|                                                          | 0/5 [00:00<?, ?it/s]"
     ]
    },
    {
     "name": "stdout",
     "output_type": "stream",
     "text": [
      "No HPT tuning performed since base estimator is given by input...\n"
     ]
    },
    {
     "name": "stderr",
     "output_type": "stream",
     "text": [
      "k-fold training: 100%|██████████████████████████████████████████████████| 5/5 [00:03<00:00,  1.59it/s]\n"
     ]
    },
    {
     "name": "stdout",
     "output_type": "stream",
     "text": [
      "Final balanced Accuracy of 5-estimator SuloClassifier: 76.6%\n",
      "Time Taken: 3 (seconds)\n",
      ">>lr: 21.082\n",
      ">>LGBM: 75.696\n",
      ">>bayes: 67.636\n",
      ">>SuloClassifier: 76.293\n",
      ">>Voting Accuracy: 75.954\n"
     ]
    }
   ],
   "source": [
    "# split the full train set into train and validation sets\n",
    "X_train, X_val, y_train, y_val = train_test_split(X_train_full, y_train_full, test_size=0.33, random_state=1)\n",
    "X_train, y_train = lazy.fit_transform(X_train, y_train)\n",
    "X_val = lazy.transform(X_val)\n",
    "if transform_target:\n",
    "    y_val = lazy.yformer.transform(y_val)\n",
    "# create the base models\n",
    "models = get_models()\n",
    "rfc = RandomForestClassifier(random_state=0, n_estimators=100)\n",
    "lgbm = LGBMClassifier(random_state=0, n_estimators=100)\n",
    "sulo = SuloClassifier(base_estimator=lgbm, n_estimators=5, pipeline=False, weights=False, imbalanced=False, verbose=0)\n",
    "models.append(('SuloClassifier',sulo))\n",
    "# fit and evaluate each model\n",
    "scores = evaluate_models(models, X_train, X_val, y_train, y_val)\n",
    "for i in range(len(models)):\n",
    "\tprint('EvalScore for %s: %.3f' % (models[i][0], scores[i]*100))\n",
    "# create the ensemble\n",
    "X_train_full, y_train_full = lazy.fit_transform(X_train_full, y_train_full)\n",
    "X_test = lazy.transform(X_test)\n",
    "if transform_target:\n",
    "    y_test = lazy.yformer.transform(y_test)\n",
    "# evaluate each standalone model\n",
    "# create the base models\n",
    "models = get_models()\n",
    "rfc = RandomForestClassifier(random_state=0, n_estimators=100)\n",
    "lgbm = LGBMClassifier(random_state=0, n_estimators=100)\n",
    "sulo = SuloClassifier(base_estimator=lgbm, n_estimators=5, pipeline=False, weights=False, imbalanced=False, verbose=0)\n",
    "models.append(('SuloClassifier',sulo))\n",
    "scores = evaluate_models(models, X_train_full, X_test, y_train_full, y_test)\n",
    "for i in range(len(models)):\n",
    "\tprint('>>%s: %.3f' % (models[i][0], scores[i]*100))\n",
    "# evaluate equal weighting\n",
    "ensemble = VotingClassifier(estimators=models[:3], voting='soft')\n",
    "ensemble.fit(X_train_full, y_train_full)\n",
    "yhat = ensemble.predict(X_test)\n",
    "score = balanced_accuracy_score(y_test, yhat)\n",
    "print('>>Voting Accuracy: %.3f' % (score*100))"
   ]
  },
  {
   "cell_type": "markdown",
   "metadata": {},
   "source": [
    "# On Multi-class datasets, Suloclassifier can beat Logistic, LGBM, Bayes and Voting ensembles with almost twice the balanced accuracy numbers"
   ]
  },
  {
   "cell_type": "code",
   "execution_count": 7,
   "metadata": {},
   "outputs": [
    {
     "data": {
      "text/html": [
       "<style>#sk-container-id-1 {color: black;background-color: white;}#sk-container-id-1 pre{padding: 0;}#sk-container-id-1 div.sk-toggleable {background-color: white;}#sk-container-id-1 label.sk-toggleable__label {cursor: pointer;display: block;width: 100%;margin-bottom: 0;padding: 0.3em;box-sizing: border-box;text-align: center;}#sk-container-id-1 label.sk-toggleable__label-arrow:before {content: \"▸\";float: left;margin-right: 0.25em;color: #696969;}#sk-container-id-1 label.sk-toggleable__label-arrow:hover:before {color: black;}#sk-container-id-1 div.sk-estimator:hover label.sk-toggleable__label-arrow:before {color: black;}#sk-container-id-1 div.sk-toggleable__content {max-height: 0;max-width: 0;overflow: hidden;text-align: left;background-color: #f0f8ff;}#sk-container-id-1 div.sk-toggleable__content pre {margin: 0.2em;color: black;border-radius: 0.25em;background-color: #f0f8ff;}#sk-container-id-1 input.sk-toggleable__control:checked~div.sk-toggleable__content {max-height: 200px;max-width: 100%;overflow: auto;}#sk-container-id-1 input.sk-toggleable__control:checked~label.sk-toggleable__label-arrow:before {content: \"▾\";}#sk-container-id-1 div.sk-estimator input.sk-toggleable__control:checked~label.sk-toggleable__label {background-color: #d4ebff;}#sk-container-id-1 div.sk-label input.sk-toggleable__control:checked~label.sk-toggleable__label {background-color: #d4ebff;}#sk-container-id-1 input.sk-hidden--visually {border: 0;clip: rect(1px 1px 1px 1px);clip: rect(1px, 1px, 1px, 1px);height: 1px;margin: -1px;overflow: hidden;padding: 0;position: absolute;width: 1px;}#sk-container-id-1 div.sk-estimator {font-family: monospace;background-color: #f0f8ff;border: 1px dotted black;border-radius: 0.25em;box-sizing: border-box;margin-bottom: 0.5em;}#sk-container-id-1 div.sk-estimator:hover {background-color: #d4ebff;}#sk-container-id-1 div.sk-parallel-item::after {content: \"\";width: 100%;border-bottom: 1px solid gray;flex-grow: 1;}#sk-container-id-1 div.sk-label:hover label.sk-toggleable__label {background-color: #d4ebff;}#sk-container-id-1 div.sk-serial::before {content: \"\";position: absolute;border-left: 1px solid gray;box-sizing: border-box;top: 0;bottom: 0;left: 50%;z-index: 0;}#sk-container-id-1 div.sk-serial {display: flex;flex-direction: column;align-items: center;background-color: white;padding-right: 0.2em;padding-left: 0.2em;position: relative;}#sk-container-id-1 div.sk-item {position: relative;z-index: 1;}#sk-container-id-1 div.sk-parallel {display: flex;align-items: stretch;justify-content: center;background-color: white;position: relative;}#sk-container-id-1 div.sk-item::before, #sk-container-id-1 div.sk-parallel-item::before {content: \"\";position: absolute;border-left: 1px solid gray;box-sizing: border-box;top: 0;bottom: 0;left: 50%;z-index: -1;}#sk-container-id-1 div.sk-parallel-item {display: flex;flex-direction: column;z-index: 1;position: relative;background-color: white;}#sk-container-id-1 div.sk-parallel-item:first-child::after {align-self: flex-end;width: 50%;}#sk-container-id-1 div.sk-parallel-item:last-child::after {align-self: flex-start;width: 50%;}#sk-container-id-1 div.sk-parallel-item:only-child::after {width: 0;}#sk-container-id-1 div.sk-dashed-wrapped {border: 1px dashed gray;margin: 0 0.4em 0.5em 0.4em;box-sizing: border-box;padding-bottom: 0.4em;background-color: white;}#sk-container-id-1 div.sk-label label {font-family: monospace;font-weight: bold;display: inline-block;line-height: 1.2em;}#sk-container-id-1 div.sk-label-container {text-align: center;}#sk-container-id-1 div.sk-container {/* jupyter's `normalize.less` sets `[hidden] { display: none; }` but bootstrap.min.css set `[hidden] { display: none !important; }` so we also need the `!important` here to be able to override the default hidden behavior on the sphinx rendered scikit-learn.org. See: https://github.com/scikit-learn/scikit-learn/issues/21755 */display: inline-block !important;position: relative;}#sk-container-id-1 div.sk-text-repr-fallback {display: none;}</style><div id=\"sk-container-id-1\" class=\"sk-top-container\"><div class=\"sk-text-repr-fallback\"><pre>SuloClassifier(base_estimator=LGBMClassifier(random_state=0), n_estimators=5,\n",
       "               pipeline=False)</pre><b>In a Jupyter environment, please rerun this cell to show the HTML representation or trust the notebook. <br />On GitHub, the HTML representation is unable to render, please try loading this page with nbviewer.org.</b></div><div class=\"sk-container\" hidden><div class=\"sk-item sk-dashed-wrapped\"><div class=\"sk-label-container\"><div class=\"sk-label sk-toggleable\"><input class=\"sk-toggleable__control sk-hidden--visually\" id=\"sk-estimator-id-1\" type=\"checkbox\" ><label for=\"sk-estimator-id-1\" class=\"sk-toggleable__label sk-toggleable__label-arrow\">SuloClassifier</label><div class=\"sk-toggleable__content\"><pre>SuloClassifier(base_estimator=LGBMClassifier(random_state=0), n_estimators=5,\n",
       "               pipeline=False)</pre></div></div></div><div class=\"sk-parallel\"><div class=\"sk-parallel-item\"><div class=\"sk-item\"><div class=\"sk-label-container\"><div class=\"sk-label sk-toggleable\"><input class=\"sk-toggleable__control sk-hidden--visually\" id=\"sk-estimator-id-2\" type=\"checkbox\" ><label for=\"sk-estimator-id-2\" class=\"sk-toggleable__label sk-toggleable__label-arrow\">base_estimator: LGBMClassifier</label><div class=\"sk-toggleable__content\"><pre>LGBMClassifier(random_state=0)</pre></div></div></div><div class=\"sk-serial\"><div class=\"sk-item\"><div class=\"sk-estimator sk-toggleable\"><input class=\"sk-toggleable__control sk-hidden--visually\" id=\"sk-estimator-id-3\" type=\"checkbox\" ><label for=\"sk-estimator-id-3\" class=\"sk-toggleable__label sk-toggleable__label-arrow\">LGBMClassifier</label><div class=\"sk-toggleable__content\"><pre>LGBMClassifier(random_state=0)</pre></div></div></div></div></div></div></div></div></div></div>"
      ],
      "text/plain": [
       "SuloClassifier(base_estimator=LGBMClassifier(random_state=0), n_estimators=5,\n",
       "               pipeline=False)"
      ]
     },
     "execution_count": 7,
     "metadata": {},
     "output_type": "execute_result"
    }
   ],
   "source": [
    "sulo"
   ]
  },
  {
   "cell_type": "markdown",
   "metadata": {},
   "source": [
    "## Tips for using Sulo for High Performance:\n",
    "1. First try it with base_estimator as None and all other params as either None or False\n",
    "2. Then set weights = True, then Imbalanced=True and see\n",
    "3. If one of the models is close to beating Sulo, then input that model as base_estimator while leaving all other params above untouched.\n",
    "4. Finally change the n_estimators from default None to 5 and see.\n",
    "5. Finally increase n_estimators to 7 and 10. \n",
    "6. The more you increase the number of estimators, the more performance boost you will get until at some point it drops off. Keep increasing until then.\n"
   ]
  },
  {
   "cell_type": "code",
   "execution_count": null,
   "metadata": {},
   "outputs": [],
   "source": []
  }
 ],
 "metadata": {
  "kernelspec": {
   "display_name": "Python 3",
   "language": "python",
   "name": "python3"
  },
  "language_info": {
   "codemirror_mode": {
    "name": "ipython",
    "version": 3
   },
   "file_extension": ".py",
   "mimetype": "text/x-python",
   "name": "python",
   "nbconvert_exporter": "python",
   "pygments_lexer": "ipython3",
   "version": "3.8.5"
  }
 },
 "nbformat": 4,
 "nbformat_minor": 4
}
