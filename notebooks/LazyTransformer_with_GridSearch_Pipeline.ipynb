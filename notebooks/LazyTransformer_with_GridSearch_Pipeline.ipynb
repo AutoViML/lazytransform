{
 "cells": [
  {
   "cell_type": "markdown",
   "metadata": {},
   "source": [
    "# In this notebook, we are going to show you how to do GridSearchCV or RandomizedSearchCV with LazyTransformer pipeline"
   ]
  },
  {
   "cell_type": "code",
   "execution_count": 1,
   "metadata": {
    "_cell_guid": "b1076dfc-b9ad-4769-8c92-a6c4dae69d19",
    "_uuid": "8f2839f25d086af736a60e9eeb907d3b93b6e0e5",
    "execution": {
     "iopub.execute_input": "2022-04-05T22:20:11.399413Z",
     "iopub.status.busy": "2022-04-05T22:20:11.398570Z",
     "iopub.status.idle": "2022-04-05T22:20:11.427355Z",
     "shell.execute_reply": "2022-04-05T22:20:11.426799Z",
     "shell.execute_reply.started": "2022-04-05T22:20:11.399307Z"
    }
   },
   "outputs": [],
   "source": [
    "# This Python 3 environment comes with many helpful analytics libraries installed\n",
    "# It is defined by the kaggle/python Docker image: https://github.com/kaggle/docker-python\n",
    "# For example, here's several helpful packages to load\n",
    "\n",
    "import numpy as np # linear algebra\n",
    "import pandas as pd # data processing, CSV file I/O (e.g. pd.read_csv)"
   ]
  },
  {
   "cell_type": "code",
   "execution_count": 2,
   "metadata": {},
   "outputs": [
    {
     "name": "stdout",
     "output_type": "stream",
     "text": [
      "(6366, 9)\n"
     ]
    },
    {
     "data": {
      "text/html": [
       "<div>\n",
       "<style scoped>\n",
       "    .dataframe tbody tr th:only-of-type {\n",
       "        vertical-align: middle;\n",
       "    }\n",
       "\n",
       "    .dataframe tbody tr th {\n",
       "        vertical-align: top;\n",
       "    }\n",
       "\n",
       "    .dataframe thead th {\n",
       "        text-align: right;\n",
       "    }\n",
       "</style>\n",
       "<table border=\"1\" class=\"dataframe\">\n",
       "  <thead>\n",
       "    <tr style=\"text-align: right;\">\n",
       "      <th></th>\n",
       "      <th>rate_marriage</th>\n",
       "      <th>age</th>\n",
       "      <th>yrs_married</th>\n",
       "      <th>children</th>\n",
       "      <th>religious</th>\n",
       "      <th>educ</th>\n",
       "      <th>occupation</th>\n",
       "      <th>occupation_husb</th>\n",
       "      <th>affair</th>\n",
       "    </tr>\n",
       "  </thead>\n",
       "  <tbody>\n",
       "    <tr>\n",
       "      <th>2764</th>\n",
       "      <td>3.0</td>\n",
       "      <td>27.0</td>\n",
       "      <td>9.0</td>\n",
       "      <td>2.0</td>\n",
       "      <td>1.0</td>\n",
       "      <td>14.0</td>\n",
       "      <td>3.0</td>\n",
       "      <td>5.0</td>\n",
       "      <td>0</td>\n",
       "    </tr>\n",
       "    <tr>\n",
       "      <th>4481</th>\n",
       "      <td>5.0</td>\n",
       "      <td>22.0</td>\n",
       "      <td>2.5</td>\n",
       "      <td>0.0</td>\n",
       "      <td>4.0</td>\n",
       "      <td>16.0</td>\n",
       "      <td>3.0</td>\n",
       "      <td>5.0</td>\n",
       "      <td>0</td>\n",
       "    </tr>\n",
       "    <tr>\n",
       "      <th>5360</th>\n",
       "      <td>4.0</td>\n",
       "      <td>27.0</td>\n",
       "      <td>6.0</td>\n",
       "      <td>0.0</td>\n",
       "      <td>2.0</td>\n",
       "      <td>17.0</td>\n",
       "      <td>4.0</td>\n",
       "      <td>4.0</td>\n",
       "      <td>0</td>\n",
       "    </tr>\n",
       "    <tr>\n",
       "      <th>5802</th>\n",
       "      <td>5.0</td>\n",
       "      <td>42.0</td>\n",
       "      <td>23.0</td>\n",
       "      <td>2.0</td>\n",
       "      <td>3.0</td>\n",
       "      <td>17.0</td>\n",
       "      <td>4.0</td>\n",
       "      <td>2.0</td>\n",
       "      <td>0</td>\n",
       "    </tr>\n",
       "    <tr>\n",
       "      <th>1220</th>\n",
       "      <td>4.0</td>\n",
       "      <td>27.0</td>\n",
       "      <td>6.0</td>\n",
       "      <td>1.0</td>\n",
       "      <td>3.0</td>\n",
       "      <td>14.0</td>\n",
       "      <td>3.0</td>\n",
       "      <td>2.0</td>\n",
       "      <td>1</td>\n",
       "    </tr>\n",
       "  </tbody>\n",
       "</table>\n",
       "</div>"
      ],
      "text/plain": [
       "      rate_marriage   age  yrs_married  children  religious  educ occupation  \\\n",
       "2764            3.0  27.0          9.0       2.0        1.0  14.0        3.0   \n",
       "4481            5.0  22.0          2.5       0.0        4.0  16.0        3.0   \n",
       "5360            4.0  27.0          6.0       0.0        2.0  17.0        4.0   \n",
       "5802            5.0  42.0         23.0       2.0        3.0  17.0        4.0   \n",
       "1220            4.0  27.0          6.0       1.0        3.0  14.0        3.0   \n",
       "\n",
       "     occupation_husb  affair  \n",
       "2764             5.0       0  \n",
       "4481             5.0       0  \n",
       "5360             4.0       0  \n",
       "5802             2.0       0  \n",
       "1220             2.0       1  "
      ]
     },
     "execution_count": 2,
     "metadata": {},
     "output_type": "execute_result"
    }
   ],
   "source": [
    "import statsmodels.api as sm\n",
    "import matplotlib.pyplot as plt\n",
    "from patsy import dmatrices\n",
    "\n",
    "# load dataset\n",
    "dta = sm.datasets.fair.load_pandas().data\n",
    "\n",
    "# add \"affair\" column: 1 represents having affairs, 0 represents not\n",
    "dta['affair'] = (dta.affairs > 0).astype(int)\n",
    "df = dta.drop('affairs', axis=1).sample(frac=1.0, random_state=0)\n",
    "df['occupation'] = df['occupation'].astype(str)\n",
    "df['occupation_husb'] = df['occupation_husb'].astype(str)\n",
    "print(df.shape)\n",
    "df.head()"
   ]
  },
  {
   "cell_type": "code",
   "execution_count": 3,
   "metadata": {
    "execution": {
     "iopub.execute_input": "2022-04-05T22:20:50.387825Z",
     "iopub.status.busy": "2022-04-05T22:20:50.387521Z",
     "iopub.status.idle": "2022-04-05T22:20:50.391942Z",
     "shell.execute_reply": "2022-04-05T22:20:50.391176Z",
     "shell.execute_reply.started": "2022-04-05T22:20:50.387791Z"
    }
   },
   "outputs": [
    {
     "name": "stdout",
     "output_type": "stream",
     "text": [
      "Imported LazyTransformer version:0.31. Call by using:\n",
      "    lazy = LazyTransformer(model=None, encoders='auto', scalers=None, \n",
      "        date_to_string=False, transform_target=False, imbalanced=False)\n",
      "    ### if you are not using a model in pipeline, you must use fit and transform ##\n",
      "        X_trainm, y_trainm = lazy.fit_transform(X_train, y_train)\n",
      "        X_testm = lazy.transform(X_test)\n",
      "    ### If using a model in pipeline, use fit and predict only ###\n",
      "        lazy.fit(X_train, y_train)\n",
      "        lazy.predict(X_test)\n",
      "\n"
     ]
    }
   ],
   "source": [
    "from lazytransform import LazyTransformer"
   ]
  },
  {
   "cell_type": "code",
   "execution_count": 4,
   "metadata": {
    "execution": {
     "iopub.execute_input": "2022-04-05T22:21:02.059544Z",
     "iopub.status.busy": "2022-04-05T22:21:02.059261Z",
     "iopub.status.idle": "2022-04-05T22:21:02.063484Z",
     "shell.execute_reply": "2022-04-05T22:21:02.062647Z",
     "shell.execute_reply.started": "2022-04-05T22:21:02.059519Z"
    }
   },
   "outputs": [],
   "source": [
    "target = 'affair'\n",
    "modeltype = 'Classification'"
   ]
  },
  {
   "cell_type": "code",
   "execution_count": 5,
   "metadata": {
    "execution": {
     "iopub.execute_input": "2022-04-05T22:31:17.584298Z",
     "iopub.status.busy": "2022-04-05T22:31:17.583996Z",
     "iopub.status.idle": "2022-04-05T22:31:17.588966Z",
     "shell.execute_reply": "2022-04-05T22:31:17.588181Z",
     "shell.execute_reply.started": "2022-04-05T22:31:17.584263Z"
    }
   },
   "outputs": [],
   "source": [
    "from sklearn import set_config\n",
    "#### You can display your pipeline in a nice diagram if it is a Jupyter Notebook ##\n",
    "set_config(display=\"diagram\")"
   ]
  },
  {
   "cell_type": "code",
   "execution_count": 6,
   "metadata": {
    "execution": {
     "iopub.execute_input": "2022-04-05T22:21:04.004150Z",
     "iopub.status.busy": "2022-04-05T22:21:04.003725Z",
     "iopub.status.idle": "2022-04-05T22:21:04.017123Z",
     "shell.execute_reply": "2022-04-05T22:21:04.016341Z",
     "shell.execute_reply.started": "2022-04-05T22:21:04.004121Z"
    }
   },
   "outputs": [
    {
     "data": {
      "text/plain": [
       "rate_marriage      float64\n",
       "age                float64\n",
       "yrs_married        float64\n",
       "children           float64\n",
       "religious          float64\n",
       "educ               float64\n",
       "occupation          object\n",
       "occupation_husb     object\n",
       "affair               int32\n",
       "dtype: object"
      ]
     },
     "execution_count": 6,
     "metadata": {},
     "output_type": "execute_result"
    }
   ],
   "source": [
    "if isinstance(target, str):\n",
    "    cols = [x for x in list(df) if x not in [target]]\n",
    "else:\n",
    "    cols = [x for x in list(df) if x not in target]\n",
    "X = df[cols]\n",
    "y = df[target]\n",
    "df.dtypes"
   ]
  },
  {
   "cell_type": "code",
   "execution_count": 7,
   "metadata": {
    "execution": {
     "iopub.execute_input": "2022-04-05T22:21:17.755430Z",
     "iopub.status.busy": "2022-04-05T22:21:17.754722Z",
     "iopub.status.idle": "2022-04-05T22:21:17.764297Z",
     "shell.execute_reply": "2022-04-05T22:21:17.763709Z",
     "shell.execute_reply.started": "2022-04-05T22:21:17.755394Z"
    }
   },
   "outputs": [
    {
     "name": "stdout",
     "output_type": "stream",
     "text": [
      "(6366, 8) (6366,)\n",
      "0\n"
     ]
    },
    {
     "data": {
      "text/plain": [
       "((6366, 8), (6366,))"
      ]
     },
     "execution_count": 7,
     "metadata": {},
     "output_type": "execute_result"
    }
   ],
   "source": [
    "###  drop the target y values that have very low samples ####\n",
    "print(X.shape, y.shape)\n",
    "if modeltype != 'Regression':\n",
    "    low_counts = y.value_counts()[(y.value_counts()<=1).values].index\n",
    "    print(len(low_counts))\n",
    "    ## You need to remove those rows that have just one sample ##\n",
    "    X = X[~(y.isin(low_counts))]\n",
    "    y = y[~(y.isin(low_counts))]\n",
    "X.shape, y.shape"
   ]
  },
  {
   "cell_type": "code",
   "execution_count": 8,
   "metadata": {},
   "outputs": [],
   "source": [
    "test_size = 0.3\n",
    "random_state = 0"
   ]
  },
  {
   "cell_type": "code",
   "execution_count": 9,
   "metadata": {
    "execution": {
     "iopub.execute_input": "2022-04-05T22:21:31.697663Z",
     "iopub.status.busy": "2022-04-05T22:21:31.697271Z",
     "iopub.status.idle": "2022-04-05T22:21:31.711969Z",
     "shell.execute_reply": "2022-04-05T22:21:31.711237Z",
     "shell.execute_reply.started": "2022-04-05T22:21:31.697634Z"
    }
   },
   "outputs": [
    {
     "name": "stdout",
     "output_type": "stream",
     "text": [
      "(4456, 8) (1910, 8)\n"
     ]
    }
   ],
   "source": [
    "from sklearn.model_selection import train_test_split\n",
    "if modeltype == 'Regression':\n",
    "    X_train, X_test, y_train, y_test = train_test_split(X,y,test_size=0.3, random_state=random_state)\n",
    "else:\n",
    "    X_train, X_test, y_train, y_test = train_test_split(X,y,test_size=0.3,stratify=y, random_state=random_state)\n",
    "print(X_train.shape, X_test.shape)"
   ]
  },
  {
   "cell_type": "code",
   "execution_count": 10,
   "metadata": {
    "execution": {
     "iopub.execute_input": "2022-04-05T22:24:59.177996Z",
     "iopub.status.busy": "2022-04-05T22:24:59.177733Z",
     "iopub.status.idle": "2022-04-05T22:24:59.182614Z",
     "shell.execute_reply": "2022-04-05T22:24:59.181909Z",
     "shell.execute_reply.started": "2022-04-05T22:24:59.177969Z"
    }
   },
   "outputs": [],
   "source": [
    "from lightgbm import LGBMClassifier, LGBMRegressor\n",
    "from sklearn.linear_model import LogisticRegression\n",
    "if modeltype == 'Regression':\n",
    "    lgb = LGBMRegressor(n_estimators=100, n_jobs=-1, random_state=99)\n",
    "else:\n",
    "    lgb = LGBMClassifier(n_estimators=100, n_jobs=-1, random_state=99, verbose=-1)\n",
    "    #lgb = LogisticRegression()"
   ]
  },
  {
   "cell_type": "code",
   "execution_count": 11,
   "metadata": {
    "execution": {
     "iopub.execute_input": "2022-04-05T22:25:37.239264Z",
     "iopub.status.busy": "2022-04-05T22:25:37.238966Z",
     "iopub.status.idle": "2022-04-05T22:25:37.243734Z",
     "shell.execute_reply": "2022-04-05T22:25:37.243190Z",
     "shell.execute_reply.started": "2022-04-05T22:25:37.239233Z"
    }
   },
   "outputs": [],
   "source": [
    "### This returns a pipeline ## you need to fit it to see how well it performs on a hold out dataset\n",
    "lazy = LazyTransformer(model=lgb, encoders='target', scalers='maxabs', \n",
    "        date_to_string=False, transform_target=True, imbalanced=False)"
   ]
  },
  {
   "cell_type": "markdown",
   "metadata": {},
   "source": [
    "# LazyTransformer already has a grid search function for LightGBM that will grid search the lazy pipeline for best params"
   ]
  },
  {
   "cell_type": "code",
   "execution_count": 12,
   "metadata": {
    "scrolled": false
   },
   "outputs": [
    {
     "name": "stdout",
     "output_type": "stream",
     "text": [
      "Fitting 3 folds for each of 18 candidates, totalling 54 fits\n",
      "#### Single_Label Binary_Classification problem ####\n",
      "Shape of dataset: (4456, 8). Now we classify variables into different types...\n",
      "    no date time variables detected in this dataset\n",
      "Time taken to define data pipeline = 1 second(s)\n",
      "model pipeline fitted with LGBMClassifier model\n",
      "Mean cross-validated train precision = 0.8060\n",
      "    Mean cross-validated test precision = 0.5662\n",
      "Time taken for Hyper Param tuning of LGBM (in minutes) = 0.2\n",
      "Best params from search:\n",
      "{'model__class_weight': None, 'model__learning_rate': 0.001, 'model__n_estimators': 150}\n",
      "Returning a new LazyTransformer pipeline that contains the best model trained on your train dataset!\n"
     ]
    }
   ],
   "source": [
    "newpipe = lazy.lightgbm_grid_search(X_train, y_train, modeltype, params={},\n",
    "                         grid_search=True, multi_label=False, log_y=False, gpu_flag=False)"
   ]
  },
  {
   "cell_type": "markdown",
   "metadata": {},
   "source": [
    "# once the best params are found, it fits the pipeline and returns a new pipeline with the best performing model. All in one step!"
   ]
  },
  {
   "cell_type": "code",
   "execution_count": 23,
   "metadata": {},
   "outputs": [
    {
     "data": {
      "text/html": [
       "<style>#sk-edf703ab-f660-46f6-8645-b30fb2804925 {color: black;background-color: white;}#sk-edf703ab-f660-46f6-8645-b30fb2804925 pre{padding: 0;}#sk-edf703ab-f660-46f6-8645-b30fb2804925 div.sk-toggleable {background-color: white;}#sk-edf703ab-f660-46f6-8645-b30fb2804925 label.sk-toggleable__label {cursor: pointer;display: block;width: 100%;margin-bottom: 0;padding: 0.3em;box-sizing: border-box;text-align: center;}#sk-edf703ab-f660-46f6-8645-b30fb2804925 label.sk-toggleable__label-arrow:before {content: \"▸\";float: left;margin-right: 0.25em;color: #696969;}#sk-edf703ab-f660-46f6-8645-b30fb2804925 label.sk-toggleable__label-arrow:hover:before {color: black;}#sk-edf703ab-f660-46f6-8645-b30fb2804925 div.sk-estimator:hover label.sk-toggleable__label-arrow:before {color: black;}#sk-edf703ab-f660-46f6-8645-b30fb2804925 div.sk-toggleable__content {max-height: 0;max-width: 0;overflow: hidden;text-align: left;background-color: #f0f8ff;}#sk-edf703ab-f660-46f6-8645-b30fb2804925 div.sk-toggleable__content pre {margin: 0.2em;color: black;border-radius: 0.25em;background-color: #f0f8ff;}#sk-edf703ab-f660-46f6-8645-b30fb2804925 input.sk-toggleable__control:checked~div.sk-toggleable__content {max-height: 200px;max-width: 100%;overflow: auto;}#sk-edf703ab-f660-46f6-8645-b30fb2804925 input.sk-toggleable__control:checked~label.sk-toggleable__label-arrow:before {content: \"▾\";}#sk-edf703ab-f660-46f6-8645-b30fb2804925 div.sk-estimator input.sk-toggleable__control:checked~label.sk-toggleable__label {background-color: #d4ebff;}#sk-edf703ab-f660-46f6-8645-b30fb2804925 div.sk-label input.sk-toggleable__control:checked~label.sk-toggleable__label {background-color: #d4ebff;}#sk-edf703ab-f660-46f6-8645-b30fb2804925 input.sk-hidden--visually {border: 0;clip: rect(1px 1px 1px 1px);clip: rect(1px, 1px, 1px, 1px);height: 1px;margin: -1px;overflow: hidden;padding: 0;position: absolute;width: 1px;}#sk-edf703ab-f660-46f6-8645-b30fb2804925 div.sk-estimator {font-family: monospace;background-color: #f0f8ff;border: 1px dotted black;border-radius: 0.25em;box-sizing: border-box;margin-bottom: 0.5em;}#sk-edf703ab-f660-46f6-8645-b30fb2804925 div.sk-estimator:hover {background-color: #d4ebff;}#sk-edf703ab-f660-46f6-8645-b30fb2804925 div.sk-parallel-item::after {content: \"\";width: 100%;border-bottom: 1px solid gray;flex-grow: 1;}#sk-edf703ab-f660-46f6-8645-b30fb2804925 div.sk-label:hover label.sk-toggleable__label {background-color: #d4ebff;}#sk-edf703ab-f660-46f6-8645-b30fb2804925 div.sk-serial::before {content: \"\";position: absolute;border-left: 1px solid gray;box-sizing: border-box;top: 2em;bottom: 0;left: 50%;}#sk-edf703ab-f660-46f6-8645-b30fb2804925 div.sk-serial {display: flex;flex-direction: column;align-items: center;background-color: white;padding-right: 0.2em;padding-left: 0.2em;}#sk-edf703ab-f660-46f6-8645-b30fb2804925 div.sk-item {z-index: 1;}#sk-edf703ab-f660-46f6-8645-b30fb2804925 div.sk-parallel {display: flex;align-items: stretch;justify-content: center;background-color: white;}#sk-edf703ab-f660-46f6-8645-b30fb2804925 div.sk-parallel::before {content: \"\";position: absolute;border-left: 1px solid gray;box-sizing: border-box;top: 2em;bottom: 0;left: 50%;}#sk-edf703ab-f660-46f6-8645-b30fb2804925 div.sk-parallel-item {display: flex;flex-direction: column;position: relative;background-color: white;}#sk-edf703ab-f660-46f6-8645-b30fb2804925 div.sk-parallel-item:first-child::after {align-self: flex-end;width: 50%;}#sk-edf703ab-f660-46f6-8645-b30fb2804925 div.sk-parallel-item:last-child::after {align-self: flex-start;width: 50%;}#sk-edf703ab-f660-46f6-8645-b30fb2804925 div.sk-parallel-item:only-child::after {width: 0;}#sk-edf703ab-f660-46f6-8645-b30fb2804925 div.sk-dashed-wrapped {border: 1px dashed gray;margin: 0 0.4em 0.5em 0.4em;box-sizing: border-box;padding-bottom: 0.4em;background-color: white;position: relative;}#sk-edf703ab-f660-46f6-8645-b30fb2804925 div.sk-label label {font-family: monospace;font-weight: bold;background-color: white;display: inline-block;line-height: 1.2em;}#sk-edf703ab-f660-46f6-8645-b30fb2804925 div.sk-label-container {position: relative;z-index: 2;text-align: center;}#sk-edf703ab-f660-46f6-8645-b30fb2804925 div.sk-container {/* jupyter's `normalize.less` sets `[hidden] { display: none; }` but bootstrap.min.css set `[hidden] { display: none !important; }` so we also need the `!important` here to be able to override the default hidden behavior on the sphinx rendered scikit-learn.org. See: https://github.com/scikit-learn/scikit-learn/issues/21755 */display: inline-block !important;position: relative;}#sk-edf703ab-f660-46f6-8645-b30fb2804925 div.sk-text-repr-fallback {display: none;}</style><div id=\"sk-edf703ab-f660-46f6-8645-b30fb2804925\" class=\"sk-top-container\"><div class=\"sk-text-repr-fallback\"><pre>Pipeline(steps=[(&#x27;data_pipeline&#x27;,\n",
       "                 Pipeline(steps=[(&#x27;scaler_pipeline&#x27;,\n",
       "                                  Pipeline(steps=[(&#x27;complete_pipeline&#x27;,\n",
       "                                                   ColumnTransformer(transformers=[(&#x27;pipeline-1&#x27;,\n",
       "                                                                                    Pipeline(steps=[(&#x27;convert_CE_to_pipe&#x27;,\n",
       "                                                                                                     FunctionTransformer(func=&lt;function convert_ce_to_pipe at 0x0000029288EE74C0&gt;)),\n",
       "                                                                                                    (&#x27;basic_encoder&#x27;,\n",
       "                                                                                                     OneHotEncoder())]),\n",
       "                                                                                    &#x27;occupation&#x27;),\n",
       "                                                                                   (&#x27;pipeline-2&#x27;,\n",
       "                                                                                    Pipeline(steps=[(&#x27;con...\n",
       "                                                                                &#x27;datesize_dict&#x27;: {},\n",
       "                                                                                &#x27;datevars&#x27;: [],\n",
       "                                                                                &#x27;discretevars&#x27;: [],\n",
       "                                                                                &#x27;nlpvars&#x27;: [],\n",
       "                                                                                &#x27;numvars&#x27;: [&#x27;rate_marriage&#x27;,\n",
       "                                                                                            &#x27;age&#x27;,\n",
       "                                                                                            &#x27;yrs_married&#x27;,\n",
       "                                                                                            &#x27;children&#x27;,\n",
       "                                                                                            &#x27;religious&#x27;,\n",
       "                                                                                            &#x27;educ&#x27;],\n",
       "                                                                                &#x27;onehot_dict&#x27;: {&#x27;occupation&#x27;: [&#x27;3.0&#x27;,\n",
       "                                                                                                               &#x27;5.0&#x27;,\n",
       "                                                                                                               &#x27;4.0&#x27;,\n",
       "                                                                                                               &#x27;6.0&#x27;,\n",
       "                                                                                                               &#x27;2.0&#x27;,\n",
       "                                                                                                               &#x27;1.0&#x27;],\n",
       "                                                                                                &#x27;occupation_husb&#x27;: [&#x27;5.0&#x27;,\n",
       "                                                                                                                    &#x27;4.0&#x27;,\n",
       "                                                                                                                    &#x27;1.0&#x27;,\n",
       "                                                                                                                    &#x27;2.0&#x27;,\n",
       "                                                                                                                    &#x27;6.0&#x27;,\n",
       "                                                                                                                    &#x27;3.0&#x27;]}}))]))])),\n",
       "                (&#x27;model&#x27;,\n",
       "                 LGBMClassifier(learning_rate=0.001, n_estimators=150,\n",
       "                                random_state=99, verbose=-1))])</pre><b>Please rerun this cell to show the HTML repr or trust the notebook.</b></div><div class=\"sk-container\" hidden><div class=\"sk-item sk-dashed-wrapped\"><div class=\"sk-label-container\"><div class=\"sk-label sk-toggleable\"><input class=\"sk-toggleable__control sk-hidden--visually\" id=\"73a5c7f0-1f16-4c50-b068-927c87d62777\" type=\"checkbox\" ><label for=\"73a5c7f0-1f16-4c50-b068-927c87d62777\" class=\"sk-toggleable__label sk-toggleable__label-arrow\">Pipeline</label><div class=\"sk-toggleable__content\"><pre>Pipeline(steps=[(&#x27;data_pipeline&#x27;,\n",
       "                 Pipeline(steps=[(&#x27;scaler_pipeline&#x27;,\n",
       "                                  Pipeline(steps=[(&#x27;complete_pipeline&#x27;,\n",
       "                                                   ColumnTransformer(transformers=[(&#x27;pipeline-1&#x27;,\n",
       "                                                                                    Pipeline(steps=[(&#x27;convert_CE_to_pipe&#x27;,\n",
       "                                                                                                     FunctionTransformer(func=&lt;function convert_ce_to_pipe at 0x0000029288EE74C0&gt;)),\n",
       "                                                                                                    (&#x27;basic_encoder&#x27;,\n",
       "                                                                                                     OneHotEncoder())]),\n",
       "                                                                                    &#x27;occupation&#x27;),\n",
       "                                                                                   (&#x27;pipeline-2&#x27;,\n",
       "                                                                                    Pipeline(steps=[(&#x27;con...\n",
       "                                                                                &#x27;datesize_dict&#x27;: {},\n",
       "                                                                                &#x27;datevars&#x27;: [],\n",
       "                                                                                &#x27;discretevars&#x27;: [],\n",
       "                                                                                &#x27;nlpvars&#x27;: [],\n",
       "                                                                                &#x27;numvars&#x27;: [&#x27;rate_marriage&#x27;,\n",
       "                                                                                            &#x27;age&#x27;,\n",
       "                                                                                            &#x27;yrs_married&#x27;,\n",
       "                                                                                            &#x27;children&#x27;,\n",
       "                                                                                            &#x27;religious&#x27;,\n",
       "                                                                                            &#x27;educ&#x27;],\n",
       "                                                                                &#x27;onehot_dict&#x27;: {&#x27;occupation&#x27;: [&#x27;3.0&#x27;,\n",
       "                                                                                                               &#x27;5.0&#x27;,\n",
       "                                                                                                               &#x27;4.0&#x27;,\n",
       "                                                                                                               &#x27;6.0&#x27;,\n",
       "                                                                                                               &#x27;2.0&#x27;,\n",
       "                                                                                                               &#x27;1.0&#x27;],\n",
       "                                                                                                &#x27;occupation_husb&#x27;: [&#x27;5.0&#x27;,\n",
       "                                                                                                                    &#x27;4.0&#x27;,\n",
       "                                                                                                                    &#x27;1.0&#x27;,\n",
       "                                                                                                                    &#x27;2.0&#x27;,\n",
       "                                                                                                                    &#x27;6.0&#x27;,\n",
       "                                                                                                                    &#x27;3.0&#x27;]}}))]))])),\n",
       "                (&#x27;model&#x27;,\n",
       "                 LGBMClassifier(learning_rate=0.001, n_estimators=150,\n",
       "                                random_state=99, verbose=-1))])</pre></div></div></div><div class=\"sk-serial\"><div class=\"sk-item\"><div class=\"sk-label-container\"><div class=\"sk-label sk-toggleable\"><input class=\"sk-toggleable__control sk-hidden--visually\" id=\"b06cb52e-a137-45bf-bc23-655f2092d089\" type=\"checkbox\" ><label for=\"b06cb52e-a137-45bf-bc23-655f2092d089\" class=\"sk-toggleable__label sk-toggleable__label-arrow\">data_pipeline: Pipeline</label><div class=\"sk-toggleable__content\"><pre>Pipeline(steps=[(&#x27;scaler_pipeline&#x27;,\n",
       "                 Pipeline(steps=[(&#x27;complete_pipeline&#x27;,\n",
       "                                  ColumnTransformer(transformers=[(&#x27;pipeline-1&#x27;,\n",
       "                                                                   Pipeline(steps=[(&#x27;convert_CE_to_pipe&#x27;,\n",
       "                                                                                    FunctionTransformer(func=&lt;function convert_ce_to_pipe at 0x0000029288EE74C0&gt;)),\n",
       "                                                                                   (&#x27;basic_encoder&#x27;,\n",
       "                                                                                    OneHotEncoder())]),\n",
       "                                                                   &#x27;occupation&#x27;),\n",
       "                                                                  (&#x27;pipeline-2&#x27;,\n",
       "                                                                   Pipeline(steps=[(&#x27;convert_CE_to_pipe&#x27;,\n",
       "                                                                                    FunctionTransfor...\n",
       "                                  FunctionTransformer(func=&lt;function create_column_names_onehot at 0x0000029288EE73A0&gt;,\n",
       "                                                      kw_args={&#x27;catvars&#x27;: [&#x27;occupation&#x27;,\n",
       "                                                                           &#x27;occupation_husb&#x27;],\n",
       "                                                               &#x27;colsize_dict&#x27;: {},\n",
       "                                                               &#x27;datesize_dict&#x27;: {},\n",
       "                                                               &#x27;datevars&#x27;: [],\n",
       "                                                               &#x27;discretevars&#x27;: [],\n",
       "                                                               &#x27;nlpvars&#x27;: [],\n",
       "                                                               &#x27;numvars&#x27;: [&#x27;rate_marriage&#x27;,\n",
       "                                                                           &#x27;age&#x27;,\n",
       "                                                                           &#x27;yrs_married&#x27;,\n",
       "                                                                           &#x27;children&#x27;,\n",
       "                                                                           &#x27;religious&#x27;,\n",
       "                                                                           &#x27;educ&#x27;],\n",
       "                                                               &#x27;onehot_dict&#x27;: {&#x27;occupation&#x27;: [&#x27;3.0&#x27;,\n",
       "                                                                                              &#x27;5.0&#x27;,\n",
       "                                                                                              &#x27;4.0&#x27;,\n",
       "                                                                                              &#x27;6.0&#x27;,\n",
       "                                                                                              &#x27;2.0&#x27;,\n",
       "                                                                                              &#x27;1.0&#x27;],\n",
       "                                                                               &#x27;occupation_husb&#x27;: [&#x27;5.0&#x27;,\n",
       "                                                                                                   &#x27;4.0&#x27;,\n",
       "                                                                                                   &#x27;1.0&#x27;,\n",
       "                                                                                                   &#x27;2.0&#x27;,\n",
       "                                                                                                   &#x27;6.0&#x27;,\n",
       "                                                                                                   &#x27;3.0&#x27;]}}))]))])</pre></div></div></div><div class=\"sk-serial\"><div class=\"sk-item\"><div class=\"sk-label-container\"><div class=\"sk-label sk-toggleable\"><input class=\"sk-toggleable__control sk-hidden--visually\" id=\"f996d99e-f429-40bf-abd0-059ae96e4aa0\" type=\"checkbox\" ><label for=\"f996d99e-f429-40bf-abd0-059ae96e4aa0\" class=\"sk-toggleable__label sk-toggleable__label-arrow\">scaler_pipeline: Pipeline</label><div class=\"sk-toggleable__content\"><pre>Pipeline(steps=[(&#x27;complete_pipeline&#x27;,\n",
       "                 ColumnTransformer(transformers=[(&#x27;pipeline-1&#x27;,\n",
       "                                                  Pipeline(steps=[(&#x27;convert_CE_to_pipe&#x27;,\n",
       "                                                                   FunctionTransformer(func=&lt;function convert_ce_to_pipe at 0x0000029288EE74C0&gt;)),\n",
       "                                                                  (&#x27;basic_encoder&#x27;,\n",
       "                                                                   OneHotEncoder())]),\n",
       "                                                  &#x27;occupation&#x27;),\n",
       "                                                 (&#x27;pipeline-2&#x27;,\n",
       "                                                  Pipeline(steps=[(&#x27;convert_CE_to_pipe&#x27;,\n",
       "                                                                   FunctionTransformer(func=&lt;function convert_ce_to_pipe at 0x0000029288EE74C0&gt;)),\n",
       "                                                                  (&#x27;basic_encoder&#x27;,\n",
       "                                                                   OneHotEncoder())]),\n",
       "                                                  &#x27;occupation_husb&#x27;),\n",
       "                                                 (&#x27;simpleimputer&#x27;,\n",
       "                                                  SimpleImputer(fill_value=-99,\n",
       "                                                                strategy=&#x27;constant&#x27;),\n",
       "                                                  [&#x27;rate_marriage&#x27;, &#x27;age&#x27;,\n",
       "                                                   &#x27;yrs_married&#x27;, &#x27;children&#x27;,\n",
       "                                                   &#x27;religious&#x27;, &#x27;educ&#x27;])])),\n",
       "                (&#x27;scaler&#x27;, MaxAbsScaler())])</pre></div></div></div><div class=\"sk-serial\"><div class=\"sk-item sk-dashed-wrapped\"><div class=\"sk-label-container\"><div class=\"sk-label sk-toggleable\"><input class=\"sk-toggleable__control sk-hidden--visually\" id=\"971f075e-6c00-4c73-b143-48215cff59bb\" type=\"checkbox\" ><label for=\"971f075e-6c00-4c73-b143-48215cff59bb\" class=\"sk-toggleable__label sk-toggleable__label-arrow\">complete_pipeline: ColumnTransformer</label><div class=\"sk-toggleable__content\"><pre>ColumnTransformer(transformers=[(&#x27;pipeline-1&#x27;,\n",
       "                                 Pipeline(steps=[(&#x27;convert_CE_to_pipe&#x27;,\n",
       "                                                  FunctionTransformer(func=&lt;function convert_ce_to_pipe at 0x0000029288EE74C0&gt;)),\n",
       "                                                 (&#x27;basic_encoder&#x27;,\n",
       "                                                  OneHotEncoder())]),\n",
       "                                 &#x27;occupation&#x27;),\n",
       "                                (&#x27;pipeline-2&#x27;,\n",
       "                                 Pipeline(steps=[(&#x27;convert_CE_to_pipe&#x27;,\n",
       "                                                  FunctionTransformer(func=&lt;function convert_ce_to_pipe at 0x0000029288EE74C0&gt;)),\n",
       "                                                 (&#x27;basic_encoder&#x27;,\n",
       "                                                  OneHotEncoder())]),\n",
       "                                 &#x27;occupation_husb&#x27;),\n",
       "                                (&#x27;simpleimputer&#x27;,\n",
       "                                 SimpleImputer(fill_value=-99,\n",
       "                                               strategy=&#x27;constant&#x27;),\n",
       "                                 [&#x27;rate_marriage&#x27;, &#x27;age&#x27;, &#x27;yrs_married&#x27;,\n",
       "                                  &#x27;children&#x27;, &#x27;religious&#x27;, &#x27;educ&#x27;])])</pre></div></div></div><div class=\"sk-parallel\"><div class=\"sk-parallel-item\"><div class=\"sk-item\"><div class=\"sk-label-container\"><div class=\"sk-label sk-toggleable\"><input class=\"sk-toggleable__control sk-hidden--visually\" id=\"a8e2c2fb-1678-4267-a4e1-f918d2c0a91a\" type=\"checkbox\" ><label for=\"a8e2c2fb-1678-4267-a4e1-f918d2c0a91a\" class=\"sk-toggleable__label sk-toggleable__label-arrow\">pipeline-1</label><div class=\"sk-toggleable__content\"><pre>occupation</pre></div></div></div><div class=\"sk-serial\"><div class=\"sk-item\"><div class=\"sk-serial\"><div class=\"sk-item\"><div class=\"sk-estimator sk-toggleable\"><input class=\"sk-toggleable__control sk-hidden--visually\" id=\"3d90909a-6e26-4c1a-8f3f-c2f2970ad8d8\" type=\"checkbox\" ><label for=\"3d90909a-6e26-4c1a-8f3f-c2f2970ad8d8\" class=\"sk-toggleable__label sk-toggleable__label-arrow\">FunctionTransformer</label><div class=\"sk-toggleable__content\"><pre>FunctionTransformer(func=&lt;function convert_ce_to_pipe at 0x0000029288EE74C0&gt;)</pre></div></div></div><div class=\"sk-item\"><div class=\"sk-estimator sk-toggleable\"><input class=\"sk-toggleable__control sk-hidden--visually\" id=\"4fe4a856-3d51-4fe3-9bf0-95780aa9f57c\" type=\"checkbox\" ><label for=\"4fe4a856-3d51-4fe3-9bf0-95780aa9f57c\" class=\"sk-toggleable__label sk-toggleable__label-arrow\">OneHotEncoder</label><div class=\"sk-toggleable__content\"><pre>OneHotEncoder()</pre></div></div></div></div></div></div></div></div><div class=\"sk-parallel-item\"><div class=\"sk-item\"><div class=\"sk-label-container\"><div class=\"sk-label sk-toggleable\"><input class=\"sk-toggleable__control sk-hidden--visually\" id=\"e46012e8-eda3-45d5-927d-fa816e1de6ea\" type=\"checkbox\" ><label for=\"e46012e8-eda3-45d5-927d-fa816e1de6ea\" class=\"sk-toggleable__label sk-toggleable__label-arrow\">pipeline-2</label><div class=\"sk-toggleable__content\"><pre>occupation_husb</pre></div></div></div><div class=\"sk-serial\"><div class=\"sk-item\"><div class=\"sk-serial\"><div class=\"sk-item\"><div class=\"sk-estimator sk-toggleable\"><input class=\"sk-toggleable__control sk-hidden--visually\" id=\"d52f6e9d-7114-4848-8d04-4ca4d6470658\" type=\"checkbox\" ><label for=\"d52f6e9d-7114-4848-8d04-4ca4d6470658\" class=\"sk-toggleable__label sk-toggleable__label-arrow\">FunctionTransformer</label><div class=\"sk-toggleable__content\"><pre>FunctionTransformer(func=&lt;function convert_ce_to_pipe at 0x0000029288EE74C0&gt;)</pre></div></div></div><div class=\"sk-item\"><div class=\"sk-estimator sk-toggleable\"><input class=\"sk-toggleable__control sk-hidden--visually\" id=\"db25e15a-f1e0-4c37-9b87-9974d1e45376\" type=\"checkbox\" ><label for=\"db25e15a-f1e0-4c37-9b87-9974d1e45376\" class=\"sk-toggleable__label sk-toggleable__label-arrow\">OneHotEncoder</label><div class=\"sk-toggleable__content\"><pre>OneHotEncoder()</pre></div></div></div></div></div></div></div></div><div class=\"sk-parallel-item\"><div class=\"sk-item\"><div class=\"sk-label-container\"><div class=\"sk-label sk-toggleable\"><input class=\"sk-toggleable__control sk-hidden--visually\" id=\"30b08463-2a50-4239-9b54-70302f646e0a\" type=\"checkbox\" ><label for=\"30b08463-2a50-4239-9b54-70302f646e0a\" class=\"sk-toggleable__label sk-toggleable__label-arrow\">simpleimputer</label><div class=\"sk-toggleable__content\"><pre>[&#x27;rate_marriage&#x27;, &#x27;age&#x27;, &#x27;yrs_married&#x27;, &#x27;children&#x27;, &#x27;religious&#x27;, &#x27;educ&#x27;]</pre></div></div></div><div class=\"sk-serial\"><div class=\"sk-item\"><div class=\"sk-estimator sk-toggleable\"><input class=\"sk-toggleable__control sk-hidden--visually\" id=\"16c00489-e046-4524-ab7d-f10537d4ca63\" type=\"checkbox\" ><label for=\"16c00489-e046-4524-ab7d-f10537d4ca63\" class=\"sk-toggleable__label sk-toggleable__label-arrow\">SimpleImputer</label><div class=\"sk-toggleable__content\"><pre>SimpleImputer(fill_value=-99, strategy=&#x27;constant&#x27;)</pre></div></div></div></div></div></div></div></div><div class=\"sk-item\"><div class=\"sk-estimator sk-toggleable\"><input class=\"sk-toggleable__control sk-hidden--visually\" id=\"9963070e-d522-4353-a39b-31cfecec71e9\" type=\"checkbox\" ><label for=\"9963070e-d522-4353-a39b-31cfecec71e9\" class=\"sk-toggleable__label sk-toggleable__label-arrow\">MaxAbsScaler</label><div class=\"sk-toggleable__content\"><pre>MaxAbsScaler()</pre></div></div></div></div></div><div class=\"sk-item\"><div class=\"sk-label-container\"><div class=\"sk-label sk-toggleable\"><input class=\"sk-toggleable__control sk-hidden--visually\" id=\"c7efa51e-5ebb-4ab2-ab5f-80f2b251cd54\" type=\"checkbox\" ><label for=\"c7efa51e-5ebb-4ab2-ab5f-80f2b251cd54\" class=\"sk-toggleable__label sk-toggleable__label-arrow\">nlp_pipeline: Pipeline</label><div class=\"sk-toggleable__content\"><pre>Pipeline(steps=[(&#x27;NLP&#x27;,\n",
       "                 FunctionTransformer(func=&lt;function create_column_names_onehot at 0x0000029288EE73A0&gt;,\n",
       "                                     kw_args={&#x27;catvars&#x27;: [&#x27;occupation&#x27;,\n",
       "                                                          &#x27;occupation_husb&#x27;],\n",
       "                                              &#x27;colsize_dict&#x27;: {},\n",
       "                                              &#x27;datesize_dict&#x27;: {},\n",
       "                                              &#x27;datevars&#x27;: [],\n",
       "                                              &#x27;discretevars&#x27;: [], &#x27;nlpvars&#x27;: [],\n",
       "                                              &#x27;numvars&#x27;: [&#x27;rate_marriage&#x27;,\n",
       "                                                          &#x27;age&#x27;, &#x27;yrs_married&#x27;,\n",
       "                                                          &#x27;children&#x27;,\n",
       "                                                          &#x27;religious&#x27;, &#x27;educ&#x27;],\n",
       "                                              &#x27;onehot_dict&#x27;: {&#x27;occupation&#x27;: [&#x27;3.0&#x27;,\n",
       "                                                                             &#x27;5.0&#x27;,\n",
       "                                                                             &#x27;4.0&#x27;,\n",
       "                                                                             &#x27;6.0&#x27;,\n",
       "                                                                             &#x27;2.0&#x27;,\n",
       "                                                                             &#x27;1.0&#x27;],\n",
       "                                                              &#x27;occupation_husb&#x27;: [&#x27;5.0&#x27;,\n",
       "                                                                                  &#x27;4.0&#x27;,\n",
       "                                                                                  &#x27;1.0&#x27;,\n",
       "                                                                                  &#x27;2.0&#x27;,\n",
       "                                                                                  &#x27;6.0&#x27;,\n",
       "                                                                                  &#x27;3.0&#x27;]}}))])</pre></div></div></div><div class=\"sk-serial\"><div class=\"sk-item\"><div class=\"sk-estimator sk-toggleable\"><input class=\"sk-toggleable__control sk-hidden--visually\" id=\"0f81ba3b-f152-434b-b035-7cc5e4cd1e35\" type=\"checkbox\" ><label for=\"0f81ba3b-f152-434b-b035-7cc5e4cd1e35\" class=\"sk-toggleable__label sk-toggleable__label-arrow\">FunctionTransformer</label><div class=\"sk-toggleable__content\"><pre>FunctionTransformer(func=&lt;function create_column_names_onehot at 0x0000029288EE73A0&gt;,\n",
       "                    kw_args={&#x27;catvars&#x27;: [&#x27;occupation&#x27;, &#x27;occupation_husb&#x27;],\n",
       "                             &#x27;colsize_dict&#x27;: {}, &#x27;datesize_dict&#x27;: {},\n",
       "                             &#x27;datevars&#x27;: [], &#x27;discretevars&#x27;: [], &#x27;nlpvars&#x27;: [],\n",
       "                             &#x27;numvars&#x27;: [&#x27;rate_marriage&#x27;, &#x27;age&#x27;, &#x27;yrs_married&#x27;,\n",
       "                                         &#x27;children&#x27;, &#x27;religious&#x27;, &#x27;educ&#x27;],\n",
       "                             &#x27;onehot_dict&#x27;: {&#x27;occupation&#x27;: [&#x27;3.0&#x27;, &#x27;5.0&#x27;, &#x27;4.0&#x27;,\n",
       "                                                            &#x27;6.0&#x27;, &#x27;2.0&#x27;,\n",
       "                                                            &#x27;1.0&#x27;],\n",
       "                                             &#x27;occupation_husb&#x27;: [&#x27;5.0&#x27;, &#x27;4.0&#x27;,\n",
       "                                                                 &#x27;1.0&#x27;, &#x27;2.0&#x27;,\n",
       "                                                                 &#x27;6.0&#x27;,\n",
       "                                                                 &#x27;3.0&#x27;]}})</pre></div></div></div></div></div></div></div><div class=\"sk-item\"><div class=\"sk-estimator sk-toggleable\"><input class=\"sk-toggleable__control sk-hidden--visually\" id=\"66239ad4-bc4c-4ad6-bea5-827a2de38573\" type=\"checkbox\" ><label for=\"66239ad4-bc4c-4ad6-bea5-827a2de38573\" class=\"sk-toggleable__label sk-toggleable__label-arrow\">LGBMClassifier</label><div class=\"sk-toggleable__content\"><pre>LGBMClassifier(learning_rate=0.001, n_estimators=150, random_state=99,\n",
       "               verbose=-1)</pre></div></div></div></div></div></div></div>"
      ],
      "text/plain": [
       "Pipeline(steps=[('data_pipeline',\n",
       "                 Pipeline(steps=[('scaler_pipeline',\n",
       "                                  Pipeline(steps=[('complete_pipeline',\n",
       "                                                   ColumnTransformer(transformers=[('pipeline-1',\n",
       "                                                                                    Pipeline(steps=[('convert_CE_to_pipe',\n",
       "                                                                                                     FunctionTransformer(func=<function convert_ce_to_pipe at 0x0000029288EE74C0>)),\n",
       "                                                                                                    ('basic_encoder',\n",
       "                                                                                                     OneHotEncoder())]),\n",
       "                                                                                    'occupation'),\n",
       "                                                                                   ('pipeline-2',\n",
       "                                                                                    Pipeline(steps=[('con...\n",
       "                                                                                'datesize_dict': {},\n",
       "                                                                                'datevars': [],\n",
       "                                                                                'discretevars': [],\n",
       "                                                                                'nlpvars': [],\n",
       "                                                                                'numvars': ['rate_marriage',\n",
       "                                                                                            'age',\n",
       "                                                                                            'yrs_married',\n",
       "                                                                                            'children',\n",
       "                                                                                            'religious',\n",
       "                                                                                            'educ'],\n",
       "                                                                                'onehot_dict': {'occupation': ['3.0',\n",
       "                                                                                                               '5.0',\n",
       "                                                                                                               '4.0',\n",
       "                                                                                                               '6.0',\n",
       "                                                                                                               '2.0',\n",
       "                                                                                                               '1.0'],\n",
       "                                                                                                'occupation_husb': ['5.0',\n",
       "                                                                                                                    '4.0',\n",
       "                                                                                                                    '1.0',\n",
       "                                                                                                                    '2.0',\n",
       "                                                                                                                    '6.0',\n",
       "                                                                                                                    '3.0']}}))]))])),\n",
       "                ('model',\n",
       "                 LGBMClassifier(learning_rate=0.001, n_estimators=150,\n",
       "                                random_state=99, verbose=-1))])"
      ]
     },
     "execution_count": 23,
     "metadata": {},
     "output_type": "execute_result"
    }
   ],
   "source": [
    "newpipe"
   ]
  },
  {
   "cell_type": "code",
   "execution_count": 13,
   "metadata": {},
   "outputs": [
    {
     "data": {
      "text/html": [
       "<style>#sk-b32c9468-2d25-4f07-b94c-c8759b7e4b0e {color: black;background-color: white;}#sk-b32c9468-2d25-4f07-b94c-c8759b7e4b0e pre{padding: 0;}#sk-b32c9468-2d25-4f07-b94c-c8759b7e4b0e div.sk-toggleable {background-color: white;}#sk-b32c9468-2d25-4f07-b94c-c8759b7e4b0e label.sk-toggleable__label {cursor: pointer;display: block;width: 100%;margin-bottom: 0;padding: 0.3em;box-sizing: border-box;text-align: center;}#sk-b32c9468-2d25-4f07-b94c-c8759b7e4b0e label.sk-toggleable__label-arrow:before {content: \"▸\";float: left;margin-right: 0.25em;color: #696969;}#sk-b32c9468-2d25-4f07-b94c-c8759b7e4b0e label.sk-toggleable__label-arrow:hover:before {color: black;}#sk-b32c9468-2d25-4f07-b94c-c8759b7e4b0e div.sk-estimator:hover label.sk-toggleable__label-arrow:before {color: black;}#sk-b32c9468-2d25-4f07-b94c-c8759b7e4b0e div.sk-toggleable__content {max-height: 0;max-width: 0;overflow: hidden;text-align: left;background-color: #f0f8ff;}#sk-b32c9468-2d25-4f07-b94c-c8759b7e4b0e div.sk-toggleable__content pre {margin: 0.2em;color: black;border-radius: 0.25em;background-color: #f0f8ff;}#sk-b32c9468-2d25-4f07-b94c-c8759b7e4b0e input.sk-toggleable__control:checked~div.sk-toggleable__content {max-height: 200px;max-width: 100%;overflow: auto;}#sk-b32c9468-2d25-4f07-b94c-c8759b7e4b0e input.sk-toggleable__control:checked~label.sk-toggleable__label-arrow:before {content: \"▾\";}#sk-b32c9468-2d25-4f07-b94c-c8759b7e4b0e div.sk-estimator input.sk-toggleable__control:checked~label.sk-toggleable__label {background-color: #d4ebff;}#sk-b32c9468-2d25-4f07-b94c-c8759b7e4b0e div.sk-label input.sk-toggleable__control:checked~label.sk-toggleable__label {background-color: #d4ebff;}#sk-b32c9468-2d25-4f07-b94c-c8759b7e4b0e input.sk-hidden--visually {border: 0;clip: rect(1px 1px 1px 1px);clip: rect(1px, 1px, 1px, 1px);height: 1px;margin: -1px;overflow: hidden;padding: 0;position: absolute;width: 1px;}#sk-b32c9468-2d25-4f07-b94c-c8759b7e4b0e div.sk-estimator {font-family: monospace;background-color: #f0f8ff;border: 1px dotted black;border-radius: 0.25em;box-sizing: border-box;margin-bottom: 0.5em;}#sk-b32c9468-2d25-4f07-b94c-c8759b7e4b0e div.sk-estimator:hover {background-color: #d4ebff;}#sk-b32c9468-2d25-4f07-b94c-c8759b7e4b0e div.sk-parallel-item::after {content: \"\";width: 100%;border-bottom: 1px solid gray;flex-grow: 1;}#sk-b32c9468-2d25-4f07-b94c-c8759b7e4b0e div.sk-label:hover label.sk-toggleable__label {background-color: #d4ebff;}#sk-b32c9468-2d25-4f07-b94c-c8759b7e4b0e div.sk-serial::before {content: \"\";position: absolute;border-left: 1px solid gray;box-sizing: border-box;top: 2em;bottom: 0;left: 50%;}#sk-b32c9468-2d25-4f07-b94c-c8759b7e4b0e div.sk-serial {display: flex;flex-direction: column;align-items: center;background-color: white;padding-right: 0.2em;padding-left: 0.2em;}#sk-b32c9468-2d25-4f07-b94c-c8759b7e4b0e div.sk-item {z-index: 1;}#sk-b32c9468-2d25-4f07-b94c-c8759b7e4b0e div.sk-parallel {display: flex;align-items: stretch;justify-content: center;background-color: white;}#sk-b32c9468-2d25-4f07-b94c-c8759b7e4b0e div.sk-parallel::before {content: \"\";position: absolute;border-left: 1px solid gray;box-sizing: border-box;top: 2em;bottom: 0;left: 50%;}#sk-b32c9468-2d25-4f07-b94c-c8759b7e4b0e div.sk-parallel-item {display: flex;flex-direction: column;position: relative;background-color: white;}#sk-b32c9468-2d25-4f07-b94c-c8759b7e4b0e div.sk-parallel-item:first-child::after {align-self: flex-end;width: 50%;}#sk-b32c9468-2d25-4f07-b94c-c8759b7e4b0e div.sk-parallel-item:last-child::after {align-self: flex-start;width: 50%;}#sk-b32c9468-2d25-4f07-b94c-c8759b7e4b0e div.sk-parallel-item:only-child::after {width: 0;}#sk-b32c9468-2d25-4f07-b94c-c8759b7e4b0e div.sk-dashed-wrapped {border: 1px dashed gray;margin: 0 0.4em 0.5em 0.4em;box-sizing: border-box;padding-bottom: 0.4em;background-color: white;position: relative;}#sk-b32c9468-2d25-4f07-b94c-c8759b7e4b0e div.sk-label label {font-family: monospace;font-weight: bold;background-color: white;display: inline-block;line-height: 1.2em;}#sk-b32c9468-2d25-4f07-b94c-c8759b7e4b0e div.sk-label-container {position: relative;z-index: 2;text-align: center;}#sk-b32c9468-2d25-4f07-b94c-c8759b7e4b0e div.sk-container {/* jupyter's `normalize.less` sets `[hidden] { display: none; }` but bootstrap.min.css set `[hidden] { display: none !important; }` so we also need the `!important` here to be able to override the default hidden behavior on the sphinx rendered scikit-learn.org. See: https://github.com/scikit-learn/scikit-learn/issues/21755 */display: inline-block !important;position: relative;}#sk-b32c9468-2d25-4f07-b94c-c8759b7e4b0e div.sk-text-repr-fallback {display: none;}</style><div id=\"sk-b32c9468-2d25-4f07-b94c-c8759b7e4b0e\" class=\"sk-top-container\"><div class=\"sk-text-repr-fallback\"><pre>LGBMClassifier(learning_rate=0.001, n_estimators=150, random_state=99,\n",
       "               verbose=-1)</pre><b>Please rerun this cell to show the HTML repr or trust the notebook.</b></div><div class=\"sk-container\" hidden><div class=\"sk-item\"><div class=\"sk-estimator sk-toggleable\"><input class=\"sk-toggleable__control sk-hidden--visually\" id=\"d5b051bd-ccc3-4709-a349-56139c7766cf\" type=\"checkbox\" checked><label for=\"d5b051bd-ccc3-4709-a349-56139c7766cf\" class=\"sk-toggleable__label sk-toggleable__label-arrow\">LGBMClassifier</label><div class=\"sk-toggleable__content\"><pre>LGBMClassifier(learning_rate=0.001, n_estimators=150, random_state=99,\n",
       "               verbose=-1)</pre></div></div></div></div></div>"
      ],
      "text/plain": [
       "LGBMClassifier(learning_rate=0.001, n_estimators=150, random_state=99,\n",
       "               verbose=-1)"
      ]
     },
     "execution_count": 13,
     "metadata": {},
     "output_type": "execute_result"
    }
   ],
   "source": [
    "newpipe.named_steps['model']"
   ]
  },
  {
   "cell_type": "markdown",
   "metadata": {},
   "source": [
    "# Since the new pipeline has already been fitted, you can immediately predict"
   ]
  },
  {
   "cell_type": "code",
   "execution_count": 14,
   "metadata": {},
   "outputs": [
    {
     "data": {
      "text/plain": [
       "array([0, 0, 0, ..., 0, 0, 0])"
      ]
     },
     "execution_count": 14,
     "metadata": {},
     "output_type": "execute_result"
    }
   ],
   "source": [
    "predictions1 = newpipe.predict(X_test)\n",
    "predictions1"
   ]
  },
  {
   "cell_type": "code",
   "execution_count": 15,
   "metadata": {
    "execution": {
     "iopub.execute_input": "2022-04-05T22:27:01.240217Z",
     "iopub.status.busy": "2022-04-05T22:27:01.239467Z",
     "iopub.status.idle": "2022-04-05T22:27:01.245872Z",
     "shell.execute_reply": "2022-04-05T22:27:01.245203Z",
     "shell.execute_reply.started": "2022-04-05T22:27:01.240180Z"
    }
   },
   "outputs": [
    {
     "name": "stdout",
     "output_type": "stream",
     "text": [
      "              precision    recall  f1-score   support\n",
      "\n",
      "           0       0.76      0.84      0.80      1294\n",
      "           1       0.56      0.43      0.49       616\n",
      "\n",
      "    accuracy                           0.71      1910\n",
      "   macro avg       0.66      0.64      0.64      1910\n",
      "weighted avg       0.69      0.71      0.70      1910\n",
      "\n"
     ]
    }
   ],
   "source": [
    "from sklearn.metrics import balanced_accuracy_score, mean_squared_error, classification_report\n",
    "if modeltype == 'Regression':\n",
    "    print('RMSE = %0.2f' %np.sqrt(mean_squared_error(y_test.values, predictions1)))\n",
    "else:\n",
    "    print(classification_report(y_test.values, predictions1))"
   ]
  },
  {
   "cell_type": "markdown",
   "metadata": {},
   "source": [
    "# Let's compare the best model against an untuned lazy pipeline with a simple but powerful model like Logistic Regression"
   ]
  },
  {
   "cell_type": "code",
   "execution_count": 16,
   "metadata": {},
   "outputs": [],
   "source": [
    "lgb = LogisticRegression()\n",
    "lazy = LazyTransformer(model=lgb, encoders='target', scalers='maxabs', \n",
    "        date_to_string=False, transform_target=True, imbalanced=False)"
   ]
  },
  {
   "cell_type": "code",
   "execution_count": 17,
   "metadata": {},
   "outputs": [
    {
     "data": {
      "text/plain": [
       "False"
      ]
     },
     "execution_count": 17,
     "metadata": {},
     "output_type": "execute_result"
    }
   ],
   "source": [
    "## lazy at the moment has not been fitted yet! ##\n",
    "lazy.fitted"
   ]
  },
  {
   "cell_type": "code",
   "execution_count": 18,
   "metadata": {},
   "outputs": [
    {
     "name": "stdout",
     "output_type": "stream",
     "text": [
      "#### Single_Label Binary_Classification problem ####\n",
      "Shape of dataset: (4456, 8). Now we classify variables into different types...\n",
      "    no date time variables detected in this dataset\n",
      "Time taken to define data pipeline = 1 second(s)\n",
      "model pipeline fitted with LogisticRegression model\n"
     ]
    },
    {
     "data": {
      "text/plain": [
       "<lazytransform.LazyTransformer at 0x29289070e80>"
      ]
     },
     "execution_count": 18,
     "metadata": {},
     "output_type": "execute_result"
    }
   ],
   "source": [
    "lazy.fit(X_train, y_train)"
   ]
  },
  {
   "cell_type": "code",
   "execution_count": 19,
   "metadata": {
    "execution": {
     "iopub.execute_input": "2022-04-05T22:26:48.437394Z",
     "iopub.status.busy": "2022-04-05T22:26:48.436491Z",
     "iopub.status.idle": "2022-04-05T22:26:48.498645Z",
     "shell.execute_reply": "2022-04-05T22:26:48.496377Z",
     "shell.execute_reply.started": "2022-04-05T22:26:48.437344Z"
    }
   },
   "outputs": [
    {
     "data": {
      "text/plain": [
       "array([0, 0, 0, ..., 0, 0, 0])"
      ]
     },
     "execution_count": 19,
     "metadata": {},
     "output_type": "execute_result"
    }
   ],
   "source": [
    "predictions2 = lazy.predict(X_test)\n",
    "predictions2"
   ]
  },
  {
   "cell_type": "code",
   "execution_count": 20,
   "metadata": {
    "execution": {
     "iopub.execute_input": "2022-04-05T22:27:54.969607Z",
     "iopub.status.busy": "2022-04-05T22:27:54.969066Z",
     "iopub.status.idle": "2022-04-05T22:27:54.975975Z",
     "shell.execute_reply": "2022-04-05T22:27:54.975006Z",
     "shell.execute_reply.started": "2022-04-05T22:27:54.969566Z"
    }
   },
   "outputs": [
    {
     "name": "stdout",
     "output_type": "stream",
     "text": [
      "              precision    recall  f1-score   support\n",
      "\n",
      "           0       0.74      0.89      0.81      1294\n",
      "           1       0.60      0.36      0.45       616\n",
      "\n",
      "    accuracy                           0.72      1910\n",
      "   macro avg       0.67      0.62      0.63      1910\n",
      "weighted avg       0.70      0.72      0.69      1910\n",
      "\n"
     ]
    }
   ],
   "source": [
    "from sklearn.metrics import balanced_accuracy_score, mean_squared_error, classification_report\n",
    "if modeltype == 'Regression':\n",
    "    print('RMSE = %0.2f' %np.sqrt(mean_squared_error(y_test.values, predictions2)))\n",
    "else:\n",
    "    print(classification_report(y_test.values, predictions2))"
   ]
  },
  {
   "cell_type": "markdown",
   "metadata": {},
   "source": [
    "# we can see that we achieved high precision from the best model while the untuned model has low precision. This is how GridSearching the entire Lazy pipeline works. Hope you enjoyed it!"
   ]
  },
  {
   "cell_type": "code",
   "execution_count": 22,
   "metadata": {},
   "outputs": [
    {
     "data": {
      "text/html": [
       "<style>#sk-0c51f0bf-8226-4e39-90fb-05f831ff7480 {color: black;background-color: white;}#sk-0c51f0bf-8226-4e39-90fb-05f831ff7480 pre{padding: 0;}#sk-0c51f0bf-8226-4e39-90fb-05f831ff7480 div.sk-toggleable {background-color: white;}#sk-0c51f0bf-8226-4e39-90fb-05f831ff7480 label.sk-toggleable__label {cursor: pointer;display: block;width: 100%;margin-bottom: 0;padding: 0.3em;box-sizing: border-box;text-align: center;}#sk-0c51f0bf-8226-4e39-90fb-05f831ff7480 label.sk-toggleable__label-arrow:before {content: \"▸\";float: left;margin-right: 0.25em;color: #696969;}#sk-0c51f0bf-8226-4e39-90fb-05f831ff7480 label.sk-toggleable__label-arrow:hover:before {color: black;}#sk-0c51f0bf-8226-4e39-90fb-05f831ff7480 div.sk-estimator:hover label.sk-toggleable__label-arrow:before {color: black;}#sk-0c51f0bf-8226-4e39-90fb-05f831ff7480 div.sk-toggleable__content {max-height: 0;max-width: 0;overflow: hidden;text-align: left;background-color: #f0f8ff;}#sk-0c51f0bf-8226-4e39-90fb-05f831ff7480 div.sk-toggleable__content pre {margin: 0.2em;color: black;border-radius: 0.25em;background-color: #f0f8ff;}#sk-0c51f0bf-8226-4e39-90fb-05f831ff7480 input.sk-toggleable__control:checked~div.sk-toggleable__content {max-height: 200px;max-width: 100%;overflow: auto;}#sk-0c51f0bf-8226-4e39-90fb-05f831ff7480 input.sk-toggleable__control:checked~label.sk-toggleable__label-arrow:before {content: \"▾\";}#sk-0c51f0bf-8226-4e39-90fb-05f831ff7480 div.sk-estimator input.sk-toggleable__control:checked~label.sk-toggleable__label {background-color: #d4ebff;}#sk-0c51f0bf-8226-4e39-90fb-05f831ff7480 div.sk-label input.sk-toggleable__control:checked~label.sk-toggleable__label {background-color: #d4ebff;}#sk-0c51f0bf-8226-4e39-90fb-05f831ff7480 input.sk-hidden--visually {border: 0;clip: rect(1px 1px 1px 1px);clip: rect(1px, 1px, 1px, 1px);height: 1px;margin: -1px;overflow: hidden;padding: 0;position: absolute;width: 1px;}#sk-0c51f0bf-8226-4e39-90fb-05f831ff7480 div.sk-estimator {font-family: monospace;background-color: #f0f8ff;border: 1px dotted black;border-radius: 0.25em;box-sizing: border-box;margin-bottom: 0.5em;}#sk-0c51f0bf-8226-4e39-90fb-05f831ff7480 div.sk-estimator:hover {background-color: #d4ebff;}#sk-0c51f0bf-8226-4e39-90fb-05f831ff7480 div.sk-parallel-item::after {content: \"\";width: 100%;border-bottom: 1px solid gray;flex-grow: 1;}#sk-0c51f0bf-8226-4e39-90fb-05f831ff7480 div.sk-label:hover label.sk-toggleable__label {background-color: #d4ebff;}#sk-0c51f0bf-8226-4e39-90fb-05f831ff7480 div.sk-serial::before {content: \"\";position: absolute;border-left: 1px solid gray;box-sizing: border-box;top: 2em;bottom: 0;left: 50%;}#sk-0c51f0bf-8226-4e39-90fb-05f831ff7480 div.sk-serial {display: flex;flex-direction: column;align-items: center;background-color: white;padding-right: 0.2em;padding-left: 0.2em;}#sk-0c51f0bf-8226-4e39-90fb-05f831ff7480 div.sk-item {z-index: 1;}#sk-0c51f0bf-8226-4e39-90fb-05f831ff7480 div.sk-parallel {display: flex;align-items: stretch;justify-content: center;background-color: white;}#sk-0c51f0bf-8226-4e39-90fb-05f831ff7480 div.sk-parallel::before {content: \"\";position: absolute;border-left: 1px solid gray;box-sizing: border-box;top: 2em;bottom: 0;left: 50%;}#sk-0c51f0bf-8226-4e39-90fb-05f831ff7480 div.sk-parallel-item {display: flex;flex-direction: column;position: relative;background-color: white;}#sk-0c51f0bf-8226-4e39-90fb-05f831ff7480 div.sk-parallel-item:first-child::after {align-self: flex-end;width: 50%;}#sk-0c51f0bf-8226-4e39-90fb-05f831ff7480 div.sk-parallel-item:last-child::after {align-self: flex-start;width: 50%;}#sk-0c51f0bf-8226-4e39-90fb-05f831ff7480 div.sk-parallel-item:only-child::after {width: 0;}#sk-0c51f0bf-8226-4e39-90fb-05f831ff7480 div.sk-dashed-wrapped {border: 1px dashed gray;margin: 0 0.4em 0.5em 0.4em;box-sizing: border-box;padding-bottom: 0.4em;background-color: white;position: relative;}#sk-0c51f0bf-8226-4e39-90fb-05f831ff7480 div.sk-label label {font-family: monospace;font-weight: bold;background-color: white;display: inline-block;line-height: 1.2em;}#sk-0c51f0bf-8226-4e39-90fb-05f831ff7480 div.sk-label-container {position: relative;z-index: 2;text-align: center;}#sk-0c51f0bf-8226-4e39-90fb-05f831ff7480 div.sk-container {/* jupyter's `normalize.less` sets `[hidden] { display: none; }` but bootstrap.min.css set `[hidden] { display: none !important; }` so we also need the `!important` here to be able to override the default hidden behavior on the sphinx rendered scikit-learn.org. See: https://github.com/scikit-learn/scikit-learn/issues/21755 */display: inline-block !important;position: relative;}#sk-0c51f0bf-8226-4e39-90fb-05f831ff7480 div.sk-text-repr-fallback {display: none;}</style><div id=\"sk-0c51f0bf-8226-4e39-90fb-05f831ff7480\" class=\"sk-top-container\"><div class=\"sk-text-repr-fallback\"><pre>LogisticRegression()</pre><b>Please rerun this cell to show the HTML repr or trust the notebook.</b></div><div class=\"sk-container\" hidden><div class=\"sk-item\"><div class=\"sk-estimator sk-toggleable\"><input class=\"sk-toggleable__control sk-hidden--visually\" id=\"5cb3e985-7fc6-4249-85ab-1692a21fc932\" type=\"checkbox\" checked><label for=\"5cb3e985-7fc6-4249-85ab-1692a21fc932\" class=\"sk-toggleable__label sk-toggleable__label-arrow\">LogisticRegression</label><div class=\"sk-toggleable__content\"><pre>LogisticRegression()</pre></div></div></div></div></div>"
      ],
      "text/plain": [
       "LogisticRegression()"
      ]
     },
     "execution_count": 22,
     "metadata": {},
     "output_type": "execute_result"
    }
   ],
   "source": [
    "lazy.model.named_steps['model']"
   ]
  },
  {
   "cell_type": "code",
   "execution_count": null,
   "metadata": {},
   "outputs": [],
   "source": []
  },
  {
   "cell_type": "code",
   "execution_count": null,
   "metadata": {},
   "outputs": [],
   "source": []
  }
 ],
 "metadata": {
  "kernelspec": {
   "display_name": "Python 3",
   "language": "python",
   "name": "python3"
  },
  "language_info": {
   "codemirror_mode": {
    "name": "ipython",
    "version": 3
   },
   "file_extension": ".py",
   "mimetype": "text/x-python",
   "name": "python",
   "nbconvert_exporter": "python",
   "pygments_lexer": "ipython3",
   "version": "3.8.5"
  }
 },
 "nbformat": 4,
 "nbformat_minor": 4
}
