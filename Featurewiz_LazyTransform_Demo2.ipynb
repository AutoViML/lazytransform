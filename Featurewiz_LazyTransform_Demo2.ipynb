{
 "cells": [
  {
   "cell_type": "markdown",
   "metadata": {},
   "source": [
    "<a href=\"https://colab.research.google.com/github/AutoViML/lazytransform/blob/main/Featurewiz_LazyTransform_Demo2.ipynb\" target=\"_parent\"><img src=\"https://colab.research.google.com/assets/colab-badge.svg\" alt=\"Open In Colab\"/></a>"
   ]
  },
  {
   "cell_type": "markdown",
   "metadata": {},
   "source": [
    "# This is a LazyTransformer demo along with FeatureWiz"
   ]
  },
  {
   "cell_type": "code",
   "execution_count": 1,
   "metadata": {},
   "outputs": [],
   "source": [
    "import pandas as pd\n",
    "import numpy as np\n",
    "import seaborn as sns\n",
    "import matplotlib.pyplot as plt\n",
    "from sklearn.ensemble import RandomForestClassifier, GradientBoostingClassifier\n",
    "np.random.seed(0)"
   ]
  },
  {
   "cell_type": "code",
   "execution_count": 2,
   "metadata": {},
   "outputs": [
    {
     "name": "stdout",
     "output_type": "stream",
     "text": [
      "Imported featurewiz. Version = 0.1.22. nrows=None uses all rows. Set nrows=1000 to randomly sample 1000 rows.\n",
      "outputs = featurewiz(dataname, target, corr_limit=0.70, verbose=2, sep=',', \n",
      "\t\theader=0, test_data='',feature_engg='', category_encoders='',\n",
      "\t\tdask_xgboost_flag=False, nrows=None)\n",
      "Create new features via 'feature_engg' flag : ['interactions','groupby','target']\n",
      "                                \n"
     ]
    }
   ],
   "source": [
    "#####   Use this for debugging/development version ############\n",
    "import featurewiz as FW"
   ]
  },
  {
   "cell_type": "code",
   "execution_count": 3,
   "metadata": {},
   "outputs": [
    {
     "name": "stdout",
     "output_type": "stream",
     "text": [
      "Imported LazyTransformer version:0.26. Call by using:\n",
      "    lazy = LazyTransformer(model=False, encoders='auto', scalers=None, \n",
      "        date_to_string=False, transform_target=False, imbalanced=False)\n",
      "    ### if you are not using a model in pipeline, you must use fit and transform ##\n",
      "    X_trainm, y_trainm = lazy.fit_transform(X_train, y_train)\n",
      "    X_testm = lazy.transform(X_test)\n",
      "    ### If using a model in pipeline, use fit and predict only ###\n",
      "    lazy.fit(X_train, y_train)\n",
      "    lazy.predict(X_test)\n",
      "\n"
     ]
    }
   ],
   "source": [
    "from lazytransform import LazyTransformer"
   ]
  },
  {
   "cell_type": "code",
   "execution_count": 4,
   "metadata": {},
   "outputs": [
    {
     "name": "stdout",
     "output_type": "stream",
     "text": [
      "(442, 10) (442, 1)\n"
     ]
    },
    {
     "data": {
      "text/html": [
       "<div>\n",
       "<style scoped>\n",
       "    .dataframe tbody tr th:only-of-type {\n",
       "        vertical-align: middle;\n",
       "    }\n",
       "\n",
       "    .dataframe tbody tr th {\n",
       "        vertical-align: top;\n",
       "    }\n",
       "\n",
       "    .dataframe thead th {\n",
       "        text-align: right;\n",
       "    }\n",
       "</style>\n",
       "<table border=\"1\" class=\"dataframe\">\n",
       "  <thead>\n",
       "    <tr style=\"text-align: right;\">\n",
       "      <th></th>\n",
       "      <th>age</th>\n",
       "      <th>sex</th>\n",
       "      <th>bmi</th>\n",
       "      <th>bp</th>\n",
       "      <th>s1</th>\n",
       "      <th>s2</th>\n",
       "      <th>s3</th>\n",
       "      <th>s4</th>\n",
       "      <th>s5</th>\n",
       "      <th>s6</th>\n",
       "    </tr>\n",
       "  </thead>\n",
       "  <tbody>\n",
       "    <tr>\n",
       "      <th>0</th>\n",
       "      <td>0.038076</td>\n",
       "      <td>0.050680</td>\n",
       "      <td>0.061696</td>\n",
       "      <td>0.021872</td>\n",
       "      <td>-0.044223</td>\n",
       "      <td>-0.034821</td>\n",
       "      <td>-0.043401</td>\n",
       "      <td>-0.002592</td>\n",
       "      <td>0.019908</td>\n",
       "      <td>-0.017646</td>\n",
       "    </tr>\n",
       "    <tr>\n",
       "      <th>1</th>\n",
       "      <td>-0.001882</td>\n",
       "      <td>-0.044642</td>\n",
       "      <td>-0.051474</td>\n",
       "      <td>-0.026328</td>\n",
       "      <td>-0.008449</td>\n",
       "      <td>-0.019163</td>\n",
       "      <td>0.074412</td>\n",
       "      <td>-0.039493</td>\n",
       "      <td>-0.068330</td>\n",
       "      <td>-0.092204</td>\n",
       "    </tr>\n",
       "    <tr>\n",
       "      <th>2</th>\n",
       "      <td>0.085299</td>\n",
       "      <td>0.050680</td>\n",
       "      <td>0.044451</td>\n",
       "      <td>-0.005671</td>\n",
       "      <td>-0.045599</td>\n",
       "      <td>-0.034194</td>\n",
       "      <td>-0.032356</td>\n",
       "      <td>-0.002592</td>\n",
       "      <td>0.002864</td>\n",
       "      <td>-0.025930</td>\n",
       "    </tr>\n",
       "    <tr>\n",
       "      <th>3</th>\n",
       "      <td>-0.089063</td>\n",
       "      <td>-0.044642</td>\n",
       "      <td>-0.011595</td>\n",
       "      <td>-0.036656</td>\n",
       "      <td>0.012191</td>\n",
       "      <td>0.024991</td>\n",
       "      <td>-0.036038</td>\n",
       "      <td>0.034309</td>\n",
       "      <td>0.022692</td>\n",
       "      <td>-0.009362</td>\n",
       "    </tr>\n",
       "    <tr>\n",
       "      <th>4</th>\n",
       "      <td>0.005383</td>\n",
       "      <td>-0.044642</td>\n",
       "      <td>-0.036385</td>\n",
       "      <td>0.021872</td>\n",
       "      <td>0.003935</td>\n",
       "      <td>0.015596</td>\n",
       "      <td>0.008142</td>\n",
       "      <td>-0.002592</td>\n",
       "      <td>-0.031991</td>\n",
       "      <td>-0.046641</td>\n",
       "    </tr>\n",
       "  </tbody>\n",
       "</table>\n",
       "</div>"
      ],
      "text/plain": [
       "        age       sex       bmi        bp        s1        s2        s3  \\\n",
       "0  0.038076  0.050680  0.061696  0.021872 -0.044223 -0.034821 -0.043401   \n",
       "1 -0.001882 -0.044642 -0.051474 -0.026328 -0.008449 -0.019163  0.074412   \n",
       "2  0.085299  0.050680  0.044451 -0.005671 -0.045599 -0.034194 -0.032356   \n",
       "3 -0.089063 -0.044642 -0.011595 -0.036656  0.012191  0.024991 -0.036038   \n",
       "4  0.005383 -0.044642 -0.036385  0.021872  0.003935  0.015596  0.008142   \n",
       "\n",
       "         s4        s5        s6  \n",
       "0 -0.002592  0.019908 -0.017646  \n",
       "1 -0.039493 -0.068330 -0.092204  \n",
       "2 -0.002592  0.002864 -0.025930  \n",
       "3  0.034309  0.022692 -0.009362  \n",
       "4 -0.002592 -0.031991 -0.046641  "
      ]
     },
     "execution_count": 4,
     "metadata": {},
     "output_type": "execute_result"
    }
   ],
   "source": [
    "from sklearn.datasets import load_boston, load_diabetes\n",
    "#bunch = load_boston()\n",
    "bunch = load_diabetes()\n",
    "y = pd.DataFrame(bunch.target, columns=['target'])\n",
    "X = pd.DataFrame(bunch.data, columns=bunch.feature_names)\n",
    "print(X.shape, y.shape)\n",
    "X.head()"
   ]
  },
  {
   "cell_type": "code",
   "execution_count": 5,
   "metadata": {},
   "outputs": [],
   "source": [
    "target = 'target'\n",
    "modeltype = 'Regression'"
   ]
  },
  {
   "cell_type": "code",
   "execution_count": 6,
   "metadata": {},
   "outputs": [],
   "source": [
    "encoders = 'auto'\n",
    "scalers = 'std'"
   ]
  },
  {
   "cell_type": "markdown",
   "metadata": {},
   "source": [
    "# LightGBM is used here. But you can use any sklearn model."
   ]
  },
  {
   "cell_type": "code",
   "execution_count": 7,
   "metadata": {},
   "outputs": [],
   "source": [
    "import lightgbm as lgbm\n",
    "from sklearn.multioutput import MultiOutputRegressor, MultiOutputClassifier\n",
    "if modeltype == 'Regression':\n",
    "    lgb = lgbm.LGBMRegressor(device=\"cpu\")\n",
    "    if isinstance(target, list):\n",
    "        if len(target) > 1:\n",
    "            lgb = MultiOutputRegressor(lgb)\n",
    "else:\n",
    "    lgb = lgbm.LGBMClassifier(device=\"cpu\")\n",
    "    if isinstance(target, list):\n",
    "        if len(target) > 1:\n",
    "            lgb = MultiOutputClassifier(lgb)"
   ]
  },
  {
   "cell_type": "code",
   "execution_count": 8,
   "metadata": {},
   "outputs": [],
   "source": [
    "import featurewiz as FW"
   ]
  },
  {
   "cell_type": "code",
   "execution_count": 9,
   "metadata": {},
   "outputs": [
    {
     "name": "stdout",
     "output_type": "stream",
     "text": [
      "(353, 10) (89, 10)\n"
     ]
    }
   ],
   "source": [
    "from sklearn.model_selection import train_test_split\n",
    "X_train, X_test, y_train, y_test = train_test_split(X, y, test_size=0.2,random_state=99)\n",
    "print(X_train.shape, X_test.shape)"
   ]
  },
  {
   "cell_type": "code",
   "execution_count": 10,
   "metadata": {},
   "outputs": [
    {
     "data": {
      "text/html": [
       "<div>\n",
       "<style scoped>\n",
       "    .dataframe tbody tr th:only-of-type {\n",
       "        vertical-align: middle;\n",
       "    }\n",
       "\n",
       "    .dataframe tbody tr th {\n",
       "        vertical-align: top;\n",
       "    }\n",
       "\n",
       "    .dataframe thead th {\n",
       "        text-align: right;\n",
       "    }\n",
       "</style>\n",
       "<table border=\"1\" class=\"dataframe\">\n",
       "  <thead>\n",
       "    <tr style=\"text-align: right;\">\n",
       "      <th></th>\n",
       "      <th>target</th>\n",
       "    </tr>\n",
       "  </thead>\n",
       "  <tbody>\n",
       "    <tr>\n",
       "      <th>225</th>\n",
       "      <td>208.0</td>\n",
       "    </tr>\n",
       "    <tr>\n",
       "      <th>85</th>\n",
       "      <td>141.0</td>\n",
       "    </tr>\n",
       "    <tr>\n",
       "      <th>28</th>\n",
       "      <td>131.0</td>\n",
       "    </tr>\n",
       "    <tr>\n",
       "      <th>230</th>\n",
       "      <td>220.0</td>\n",
       "    </tr>\n",
       "    <tr>\n",
       "      <th>435</th>\n",
       "      <td>64.0</td>\n",
       "    </tr>\n",
       "  </tbody>\n",
       "</table>\n",
       "</div>"
      ],
      "text/plain": [
       "     target\n",
       "225   208.0\n",
       "85    141.0\n",
       "28    131.0\n",
       "230   220.0\n",
       "435    64.0"
      ]
     },
     "execution_count": 10,
     "metadata": {},
     "output_type": "execute_result"
    }
   ],
   "source": [
    "y_train.head()"
   ]
  },
  {
   "cell_type": "markdown",
   "metadata": {},
   "source": [
    "# Baseline model with all features - let's see performance"
   ]
  },
  {
   "cell_type": "code",
   "execution_count": 11,
   "metadata": {},
   "outputs": [
    {
     "name": "stdout",
     "output_type": "stream",
     "text": [
      "all features = 10\n"
     ]
    }
   ],
   "source": [
    "print('all features = %d' %X_train.shape[1])"
   ]
  },
  {
   "cell_type": "code",
   "execution_count": 12,
   "metadata": {},
   "outputs": [
    {
     "data": {
      "text/plain": [
       "<lazytransform.LazyTransformer at 0x21261c36700>"
      ]
     },
     "execution_count": 12,
     "metadata": {},
     "output_type": "execute_result"
    }
   ],
   "source": [
    "sim = LazyTransformer(model=lgb, encoders='auto',scalers=scalers, imbalanced=False)\n",
    "sim"
   ]
  },
  {
   "cell_type": "code",
   "execution_count": 13,
   "metadata": {
    "scrolled": false
   },
   "outputs": [
    {
     "name": "stdout",
     "output_type": "stream",
     "text": [
      "#### Single_Label Regression problem ####\n",
      "Shape of dataset: (353, 10). Now we classify variables into different types...\n",
      "    no date time variables detected in this dataset\n",
      "    Time taken to define data pipeline = 1 second(s)\n",
      "    Data Pipeline is saved as: LazyTransformer_pipeline.pkl in current working directory.\n",
      "model pipeline fitted with LGBMRegressor model\n"
     ]
    },
    {
     "data": {
      "text/plain": [
       "<lazytransform.LazyTransformer at 0x21261c36700>"
      ]
     },
     "execution_count": 13,
     "metadata": {},
     "output_type": "execute_result"
    }
   ],
   "source": [
    "### If using a model in pipeline, use fit and predict only ###\n",
    "sim.fit(X_train, y_train)"
   ]
  },
  {
   "cell_type": "code",
   "execution_count": 14,
   "metadata": {},
   "outputs": [],
   "source": [
    "### If using a model in pipeline, use fit and predict only ###\n",
    "predictions = sim.predict(X_test)"
   ]
  },
  {
   "cell_type": "code",
   "execution_count": 15,
   "metadata": {},
   "outputs": [
    {
     "name": "stdout",
     "output_type": "stream",
     "text": [
      "R-squared = 31%\n",
      "RMSE = 63.43\n"
     ]
    }
   ],
   "source": [
    "import sklearn\n",
    "if modeltype == 'Regression':\n",
    "    print('R-squared = %0.0f%%' %(100*sklearn.metrics.r2_score(y_test, predictions)))\n",
    "    print('RMSE = %0.2f' %np.sqrt(sklearn.metrics.mean_squared_error(y_test, predictions)))\n",
    "else:\n",
    "    print(sklearn.metrics.classification_report(y_test, predictions))"
   ]
  },
  {
   "cell_type": "markdown",
   "metadata": {},
   "source": [
    "# Let's compare it with a model with select features from featurewiz"
   ]
  },
  {
   "cell_type": "code",
   "execution_count": 16,
   "metadata": {},
   "outputs": [
    {
     "data": {
      "text/plain": [
       "<lazytransform.LazyTransformer at 0x21261c95250>"
      ]
     },
     "execution_count": 16,
     "metadata": {},
     "output_type": "execute_result"
    }
   ],
   "source": [
    "sim = LazyTransformer(model=lgb, encoders=encoders,scalers=scalers, imbalanced=False)\n",
    "sim"
   ]
  },
  {
   "cell_type": "code",
   "execution_count": 17,
   "metadata": {},
   "outputs": [
    {
     "name": "stdout",
     "output_type": "stream",
     "text": [
      "#### Single_Label Regression problem ####\n",
      "Shape of dataset: (353, 10). Now we classify variables into different types...\n",
      "    no date time variables detected in this dataset\n",
      "    Time taken to define data pipeline = 1 second(s)\n",
      "    Data Pipeline is saved as: LazyTransformer_pipeline.pkl in current working directory.\n",
      "model pipeline fitted with LGBMRegressor model\n",
      "    Time taken to transform dataset = 1 second(s)\n"
     ]
    },
    {
     "data": {
      "text/plain": [
       "(353, 10)"
      ]
     },
     "execution_count": 17,
     "metadata": {},
     "output_type": "execute_result"
    }
   ],
   "source": [
    "X_train_trans, y_train_trans = sim.fit_transform(X_train, y_train)\n",
    "X_train_trans.shape"
   ]
  },
  {
   "cell_type": "code",
   "execution_count": 18,
   "metadata": {},
   "outputs": [
    {
     "name": "stdout",
     "output_type": "stream",
     "text": [
      "    Time taken to transform dataset = 1 second(s)\n"
     ]
    },
    {
     "data": {
      "text/plain": [
       "(89, 10)"
      ]
     },
     "execution_count": 18,
     "metadata": {},
     "output_type": "execute_result"
    }
   ],
   "source": [
    "X_test_trans = sim.transform(X_test)\n",
    "X_test_trans.shape"
   ]
  },
  {
   "cell_type": "markdown",
   "metadata": {},
   "source": [
    "# If you have NLP vars, featurewiz will automatically drop them hence use lazytransform to create word vectors. Hence it is better to run featurewiz first and then lazytransform even in NLP datasets."
   ]
  },
  {
   "cell_type": "code",
   "execution_count": 19,
   "metadata": {
    "scrolled": false
   },
   "outputs": [
    {
     "name": "stdout",
     "output_type": "stream",
     "text": [
      "############################################################################################\n",
      "############       F A S T   F E A T U R E  E N G G    A N D    S E L E C T I O N ! ########\n",
      "# Be judicious with featurewiz. Don't use it to create too many un-interpretable features! #\n",
      "############################################################################################\n",
      "Skipping feature engineering since no feature_engg input...\n",
      "Skipping category encoding since no category encoders specified in input...\n",
      "**INFO: featurewiz can now read feather formatted files. Loading train data...\n",
      "    Shape of your Data Set loaded: (353, 11)\n",
      "     Loaded. Shape = (353, 11)\n",
      "No special characters in dataset predictors. Now checking target variable...\n",
      "No test data filename given...\n",
      "############## C L A S S I F Y I N G  V A R I A B L E S  ####################\n",
      "Classifying variables in data set...\n",
      "    10 Predictors classified...\n",
      "        No variables removed since no ID or low-information variables found in data set\n",
      "No GPU active on this device\n",
      "    Tuning XGBoost using CPU hyper-parameters. This will take time...\n",
      "Removing 0 columns from further processing since ID or low information variables\n",
      "    columns removed: []\n",
      "    After removing redundant variables from further processing, features left = 10\n",
      "No interactions created for categorical vars since feature engg does not specify it\n",
      "#### Single_Label Regression problem ####\n",
      "Searching for highly correlated variables from 10 variables using SULOV method\n",
      "#####  SULOV : Searching for Uncorrelated List Of Variables (takes time...) ############\n",
      "There are no null values in dataset.\n",
      "    Caution: We will try to reduce the memory usage of dataframe from 0.01 MB\n",
      "        memory usage after optimization is: 0.01 MB\n",
      "        decreased by 60.0%\n",
      "    Removing (2) highly correlated variables:\n",
      "    ['s2', 's3']\n",
      "    Following (8) vars selected: ['age', 'sex', 'bmi', 'bp', 's5', 's6', 's1', 's4']\n"
     ]
    },
    {
     "data": {
      "image/png": "[encoded data removed]",
      "text/plain": [
       "<Figure size 1080x360 with 1 Axes>"
      ]
     },
     "metadata": {},
     "output_type": "display_data"
    },
    {
     "name": "stdout",
     "output_type": "stream",
     "text": [
      "Time taken for SULOV method = 1 seconds\n",
      "    Adding 0 categorical variables to reduced numeric variables  of 8\n",
      "Final list of selected vars after SULOV = 8\n",
      "############## F E A T U R E   S E L E C T I O N  ####################\n",
      "    using regular XGBoost\n",
      "Train and Test loaded into Dask dataframes successfully after feature_engg completed\n",
      "Current number of predictors = 8 \n",
      "    XGBoost version: 1.5.1\n",
      "Number of booster rounds = 100\n",
      "        using 8 variables...\n",
      "            Time taken for regular XGBoost feature selection = 0 seconds\n",
      "        using 6 variables...\n",
      "            Time taken for regular XGBoost feature selection = 1 seconds\n",
      "        using 4 variables...\n",
      "            Time taken for regular XGBoost feature selection = 1 seconds\n",
      "        using 2 variables...\n",
      "            Time taken for regular XGBoost feature selection = 1 seconds\n"
     ]
    },
    {
     "data": {
      "image/png": "[encoded data removed]",
      "text/plain": [
       "<Figure size 720x720 with 4 Axes>"
      ]
     },
     "metadata": {
      "needs_background": "light"
     },
     "output_type": "display_data"
    },
    {
     "name": "stdout",
     "output_type": "stream",
     "text": [
      "            Total time taken for XGBoost feature selection = 2 seconds\n",
      "No ID variables [] are selected since they are not considered important for modeling\n",
      "Selected 8 important features:\n",
      "['bmi', 's5', 's4', 'sex', 'bp', 's6', 's1', 'age']\n",
      "    Time taken = 2 seconds\n",
      "    Reverted column names to original names given in train dataset\n",
      "Returning list of 8 important features and a dataframe.\n",
      "    Time taken to create entire pipeline = 2 second(s)\n"
     ]
    }
   ],
   "source": [
    "features = FW.FeatureWiz(corr_limit=0.70, feature_engg='', category_encoders='', dask_xgboost_flag=False, nrows=None, verbose=2)\n",
    "X_train_selected = features.fit_transform(X_train_trans, y_train_trans)\n",
    "X_test_selected = features.transform(X_test_trans)"
   ]
  },
  {
   "cell_type": "code",
   "execution_count": 20,
   "metadata": {},
   "outputs": [
    {
     "name": "stdout",
     "output_type": "stream",
     "text": [
      "Select features = 8\n",
      "['bmi', 's5', 's4', 'sex', 'bp', 's6', 's1', 'age']\n"
     ]
    }
   ],
   "source": [
    "select = features.features  ### provides the list of selected features ###\n",
    "print('Select features = %d' %len(select))\n",
    "print(select)"
   ]
  },
  {
   "cell_type": "code",
   "execution_count": 21,
   "metadata": {},
   "outputs": [
    {
     "data": {
      "text/plain": [
       "<lazytransform.LazyTransformer at 0x2126410cf10>"
      ]
     },
     "execution_count": 21,
     "metadata": {},
     "output_type": "execute_result"
    }
   ],
   "source": [
    "sim = LazyTransformer(model=lgb, encoders=encoders,scalers=scalers, imbalanced=False)\n",
    "sim"
   ]
  },
  {
   "cell_type": "code",
   "execution_count": 22,
   "metadata": {},
   "outputs": [
    {
     "name": "stdout",
     "output_type": "stream",
     "text": [
      "#### Single_Label Regression problem ####\n",
      "Shape of dataset: (353, 8). Now we classify variables into different types...\n",
      "    no date time variables detected in this dataset\n",
      "    Time taken to define data pipeline = 1 second(s)\n",
      "    Data Pipeline is saved as: LazyTransformer_pipeline.pkl in current working directory.\n",
      "model pipeline fitted with LGBMRegressor model\n"
     ]
    },
    {
     "data": {
      "text/plain": [
       "<lazytransform.LazyTransformer at 0x2126410cf10>"
      ]
     },
     "execution_count": 22,
     "metadata": {},
     "output_type": "execute_result"
    }
   ],
   "source": [
    "### If using a model in pipeline, use fit and predict only ###\n",
    "sim.fit(X_train_selected, y_train)"
   ]
  },
  {
   "cell_type": "code",
   "execution_count": 23,
   "metadata": {},
   "outputs": [
    {
     "data": {
      "text/plain": [
       "array([105.25359909, 210.90495523,  90.78370909])"
      ]
     },
     "execution_count": 23,
     "metadata": {},
     "output_type": "execute_result"
    }
   ],
   "source": [
    "### If using a model in pipeline, use fit and predict only ###\n",
    "predictions = sim.predict(X_test_selected)\n",
    "predictions[:3]"
   ]
  },
  {
   "cell_type": "code",
   "execution_count": 24,
   "metadata": {},
   "outputs": [
    {
     "name": "stdout",
     "output_type": "stream",
     "text": [
      "R-squared = 35%\n",
      "RMSE = 61.84\n"
     ]
    }
   ],
   "source": [
    "import sklearn\n",
    "if modeltype == 'Regression':\n",
    "    print('R-squared = %0.0f%%' %(100*sklearn.metrics.r2_score(y_test, predictions)))\n",
    "    print('RMSE = %0.2f' %np.sqrt(sklearn.metrics.mean_squared_error(y_test, predictions)))\n",
    "else:\n",
    "    #dicto = {0:'f',1:'t'}\n",
    "    dicto = {0:0,1:1}\n",
    "    print(sklearn.metrics.classification_report(y_test, pd.Series(predictions).map(dicto)))"
   ]
  },
  {
   "cell_type": "code",
   "execution_count": null,
   "metadata": {},
   "outputs": [],
   "source": []
  },
  {
   "cell_type": "markdown",
   "metadata": {},
   "source": [
    "# So feature selection works better in this case than using all features. You can view the lazytransform pipeline here"
   ]
  },
  {
   "cell_type": "code",
   "execution_count": 25,
   "metadata": {},
   "outputs": [
    {
     "data": {
      "text/html": [
       "<style>#sk-9e3c77ad-c46c-46b4-aaf7-ee2b1481c647 {color: black;background-color: white;}#sk-9e3c77ad-c46c-46b4-aaf7-ee2b1481c647 pre{padding: 0;}#sk-9e3c77ad-c46c-46b4-aaf7-ee2b1481c647 div.sk-toggleable {background-color: white;}#sk-9e3c77ad-c46c-46b4-aaf7-ee2b1481c647 label.sk-toggleable__label {cursor: pointer;display: block;width: 100%;margin-bottom: 0;padding: 0.3em;box-sizing: border-box;text-align: center;}#sk-9e3c77ad-c46c-46b4-aaf7-ee2b1481c647 div.sk-toggleable__content {max-height: 0;max-width: 0;overflow: hidden;text-align: left;background-color: #f0f8ff;}#sk-9e3c77ad-c46c-46b4-aaf7-ee2b1481c647 div.sk-toggleable__content pre {margin: 0.2em;color: black;border-radius: 0.25em;background-color: #f0f8ff;}#sk-9e3c77ad-c46c-46b4-aaf7-ee2b1481c647 input.sk-toggleable__control:checked~div.sk-toggleable__content {max-height: 200px;max-width: 100%;overflow: auto;}#sk-9e3c77ad-c46c-46b4-aaf7-ee2b1481c647 div.sk-estimator input.sk-toggleable__control:checked~label.sk-toggleable__label {background-color: #d4ebff;}#sk-9e3c77ad-c46c-46b4-aaf7-ee2b1481c647 div.sk-label input.sk-toggleable__control:checked~label.sk-toggleable__label {background-color: #d4ebff;}#sk-9e3c77ad-c46c-46b4-aaf7-ee2b1481c647 input.sk-hidden--visually {border: 0;clip: rect(1px 1px 1px 1px);clip: rect(1px, 1px, 1px, 1px);height: 1px;margin: -1px;overflow: hidden;padding: 0;position: absolute;width: 1px;}#sk-9e3c77ad-c46c-46b4-aaf7-ee2b1481c647 div.sk-estimator {font-family: monospace;background-color: #f0f8ff;border: 1px dotted black;border-radius: 0.25em;box-sizing: border-box;margin-bottom: 0.5em;}#sk-9e3c77ad-c46c-46b4-aaf7-ee2b1481c647 div.sk-estimator:hover {background-color: #d4ebff;}#sk-9e3c77ad-c46c-46b4-aaf7-ee2b1481c647 div.sk-parallel-item::after {content: \"\";width: 100%;border-bottom: 1px solid gray;flex-grow: 1;}#sk-9e3c77ad-c46c-46b4-aaf7-ee2b1481c647 div.sk-label:hover label.sk-toggleable__label {background-color: #d4ebff;}#sk-9e3c77ad-c46c-46b4-aaf7-ee2b1481c647 div.sk-serial::before {content: \"\";position: absolute;border-left: 1px solid gray;box-sizing: border-box;top: 2em;bottom: 0;left: 50%;}#sk-9e3c77ad-c46c-46b4-aaf7-ee2b1481c647 div.sk-serial {display: flex;flex-direction: column;align-items: center;background-color: white;padding-right: 0.2em;padding-left: 0.2em;}#sk-9e3c77ad-c46c-46b4-aaf7-ee2b1481c647 div.sk-item {z-index: 1;}#sk-9e3c77ad-c46c-46b4-aaf7-ee2b1481c647 div.sk-parallel {display: flex;align-items: stretch;justify-content: center;background-color: white;}#sk-9e3c77ad-c46c-46b4-aaf7-ee2b1481c647 div.sk-parallel::before {content: \"\";position: absolute;border-left: 1px solid gray;box-sizing: border-box;top: 2em;bottom: 0;left: 50%;}#sk-9e3c77ad-c46c-46b4-aaf7-ee2b1481c647 div.sk-parallel-item {display: flex;flex-direction: column;position: relative;background-color: white;}#sk-9e3c77ad-c46c-46b4-aaf7-ee2b1481c647 div.sk-parallel-item:first-child::after {align-self: flex-end;width: 50%;}#sk-9e3c77ad-c46c-46b4-aaf7-ee2b1481c647 div.sk-parallel-item:last-child::after {align-self: flex-start;width: 50%;}#sk-9e3c77ad-c46c-46b4-aaf7-ee2b1481c647 div.sk-parallel-item:only-child::after {width: 0;}#sk-9e3c77ad-c46c-46b4-aaf7-ee2b1481c647 div.sk-dashed-wrapped {border: 1px dashed gray;margin: 0 0.4em 0.5em 0.4em;box-sizing: border-box;padding-bottom: 0.4em;background-color: white;position: relative;}#sk-9e3c77ad-c46c-46b4-aaf7-ee2b1481c647 div.sk-label label {font-family: monospace;font-weight: bold;background-color: white;display: inline-block;line-height: 1.2em;}#sk-9e3c77ad-c46c-46b4-aaf7-ee2b1481c647 div.sk-label-container {position: relative;z-index: 2;text-align: center;}#sk-9e3c77ad-c46c-46b4-aaf7-ee2b1481c647 div.sk-container {display: inline-block;position: relative;}</style><div id=\"sk-9e3c77ad-c46c-46b4-aaf7-ee2b1481c647\" class\"sk-top-container\"><div class=\"sk-container\"><div class=\"sk-item sk-dashed-wrapped\"><div class=\"sk-label-container\"><div class=\"sk-label sk-toggleable\"><input class=\"sk-toggleable__control sk-hidden--visually\" id=\"6d8f237c-af84-40b1-bb7a-17cc3155e1e8\" type=\"checkbox\" ><label class=\"sk-toggleable__label\" for=\"6d8f237c-af84-40b1-bb7a-17cc3155e1e8\">Pipeline</label><div class=\"sk-toggleable__content\"><pre>Pipeline(steps=[('data_pipeline',\n",
       "                 Pipeline(steps=[('scaler_pipeline',\n",
       "                                  Pipeline(steps=[('complete_pipeline',\n",
       "                                                   ColumnTransformer(transformers=[('simpleimputer',\n",
       "                                                                                    SimpleImputer(fill_value=-99,\n",
       "                                                                                                  strategy='constant'),\n",
       "                                                                                    ['bmi',\n",
       "                                                                                     's5',\n",
       "                                                                                     's4',\n",
       "                                                                                     'sex',\n",
       "                                                                                     'bp',\n",
       "                                                                                     's6',\n",
       "                                                                                     's1',\n",
       "                                                                                     'age'])])),\n",
       "                                                  ('scaler',\n",
       "                                                   StandardScaler())])),\n",
       "                                 ('nlp_pipeline',\n",
       "                                  Pipeline(steps=[('NLP',\n",
       "                                                   FunctionTransformer(func=<function create_column_names_onehot at 0x0000021261D08820>,\n",
       "                                                                       kw_args={'catvars': [],\n",
       "                                                                                'colsize_dict': {},\n",
       "                                                                                'datesize_dict': {},\n",
       "                                                                                'datevars': [],\n",
       "                                                                                'discretevars': [],\n",
       "                                                                                'nlpvars': [],\n",
       "                                                                                'numvars': ['bmi',\n",
       "                                                                                            's5',\n",
       "                                                                                            's4',\n",
       "                                                                                            'sex',\n",
       "                                                                                            'bp',\n",
       "                                                                                            's6',\n",
       "                                                                                            's1',\n",
       "                                                                                            'age'],\n",
       "                                                                                'onehot_dict': {}}))]))])),\n",
       "                ('model', LGBMRegressor(device='cpu'))])</pre></div></div></div><div class=\"sk-serial\"><div class=\"sk-item\"><div class=\"sk-label-container\"><div class=\"sk-label sk-toggleable\"><input class=\"sk-toggleable__control sk-hidden--visually\" id=\"32cb150d-0b16-432b-b617-bdafec4e0fcc\" type=\"checkbox\" ><label class=\"sk-toggleable__label\" for=\"32cb150d-0b16-432b-b617-bdafec4e0fcc\">data_pipeline: Pipeline</label><div class=\"sk-toggleable__content\"><pre>Pipeline(steps=[('scaler_pipeline',\n",
       "                 Pipeline(steps=[('complete_pipeline',\n",
       "                                  ColumnTransformer(transformers=[('simpleimputer',\n",
       "                                                                   SimpleImputer(fill_value=-99,\n",
       "                                                                                 strategy='constant'),\n",
       "                                                                   ['bmi', 's5',\n",
       "                                                                    's4', 'sex',\n",
       "                                                                    'bp', 's6',\n",
       "                                                                    's1',\n",
       "                                                                    'age'])])),\n",
       "                                 ('scaler', StandardScaler())])),\n",
       "                ('nlp_pipeline',\n",
       "                 Pipeline(steps=[('NLP',\n",
       "                                  FunctionTransformer(func=<function create_column_names_onehot at 0x0000021261D08820>,\n",
       "                                                      kw_args={'catvars': [],\n",
       "                                                               'colsize_dict': {},\n",
       "                                                               'datesize_dict': {},\n",
       "                                                               'datevars': [],\n",
       "                                                               'discretevars': [],\n",
       "                                                               'nlpvars': [],\n",
       "                                                               'numvars': ['bmi',\n",
       "                                                                           's5',\n",
       "                                                                           's4',\n",
       "                                                                           'sex',\n",
       "                                                                           'bp',\n",
       "                                                                           's6',\n",
       "                                                                           's1',\n",
       "                                                                           'age'],\n",
       "                                                               'onehot_dict': {}}))]))])</pre></div></div></div><div class=\"sk-serial\"><div class=\"sk-item\"><div class=\"sk-label-container\"><div class=\"sk-label sk-toggleable\"><input class=\"sk-toggleable__control sk-hidden--visually\" id=\"d8d26449-c3e8-432b-93e2-f2b860b53d43\" type=\"checkbox\" ><label class=\"sk-toggleable__label\" for=\"d8d26449-c3e8-432b-93e2-f2b860b53d43\">scaler_pipeline: Pipeline</label><div class=\"sk-toggleable__content\"><pre>Pipeline(steps=[('complete_pipeline',\n",
       "                 ColumnTransformer(transformers=[('simpleimputer',\n",
       "                                                  SimpleImputer(fill_value=-99,\n",
       "                                                                strategy='constant'),\n",
       "                                                  ['bmi', 's5', 's4', 'sex',\n",
       "                                                   'bp', 's6', 's1',\n",
       "                                                   'age'])])),\n",
       "                ('scaler', StandardScaler())])</pre></div></div></div><div class=\"sk-serial\"><div class=\"sk-item sk-dashed-wrapped\"><div class=\"sk-label-container\"><div class=\"sk-label sk-toggleable\"><input class=\"sk-toggleable__control sk-hidden--visually\" id=\"2f40ef0c-b576-43f3-b381-f3b4f5ac8d5a\" type=\"checkbox\" ><label class=\"sk-toggleable__label\" for=\"2f40ef0c-b576-43f3-b381-f3b4f5ac8d5a\">complete_pipeline: ColumnTransformer</label><div class=\"sk-toggleable__content\"><pre>ColumnTransformer(transformers=[('simpleimputer',\n",
       "                                 SimpleImputer(fill_value=-99,\n",
       "                                               strategy='constant'),\n",
       "                                 ['bmi', 's5', 's4', 'sex', 'bp', 's6', 's1',\n",
       "                                  'age'])])</pre></div></div></div><div class=\"sk-parallel\"><div class=\"sk-parallel-item\"><div class=\"sk-item\"><div class=\"sk-label-container\"><div class=\"sk-label sk-toggleable\"><input class=\"sk-toggleable__control sk-hidden--visually\" id=\"acbf10d8-7310-45bb-b9ad-4a7969a9590b\" type=\"checkbox\" ><label class=\"sk-toggleable__label\" for=\"acbf10d8-7310-45bb-b9ad-4a7969a9590b\">simpleimputer</label><div class=\"sk-toggleable__content\"><pre>['bmi', 's5', 's4', 'sex', 'bp', 's6', 's1', 'age']</pre></div></div></div><div class=\"sk-serial\"><div class=\"sk-item\"><div class=\"sk-estimator sk-toggleable\"><input class=\"sk-toggleable__control sk-hidden--visually\" id=\"b0ff4f78-82b1-46c1-813f-1578d1df6104\" type=\"checkbox\" ><label class=\"sk-toggleable__label\" for=\"b0ff4f78-82b1-46c1-813f-1578d1df6104\">SimpleImputer</label><div class=\"sk-toggleable__content\"><pre>SimpleImputer(fill_value=-99, strategy='constant')</pre></div></div></div></div></div></div></div></div><div class=\"sk-item\"><div class=\"sk-estimator sk-toggleable\"><input class=\"sk-toggleable__control sk-hidden--visually\" id=\"c656b803-b8d6-4884-81d5-64895e887d00\" type=\"checkbox\" ><label class=\"sk-toggleable__label\" for=\"c656b803-b8d6-4884-81d5-64895e887d00\">StandardScaler</label><div class=\"sk-toggleable__content\"><pre>StandardScaler()</pre></div></div></div></div></div><div class=\"sk-item\"><div class=\"sk-label-container\"><div class=\"sk-label sk-toggleable\"><input class=\"sk-toggleable__control sk-hidden--visually\" id=\"c3ffc2d7-0cd9-4b5e-83b9-fb3f3941c506\" type=\"checkbox\" ><label class=\"sk-toggleable__label\" for=\"c3ffc2d7-0cd9-4b5e-83b9-fb3f3941c506\">nlp_pipeline: Pipeline</label><div class=\"sk-toggleable__content\"><pre>Pipeline(steps=[('NLP',\n",
       "                 FunctionTransformer(func=<function create_column_names_onehot at 0x0000021261D08820>,\n",
       "                                     kw_args={'catvars': [], 'colsize_dict': {},\n",
       "                                              'datesize_dict': {},\n",
       "                                              'datevars': [],\n",
       "                                              'discretevars': [], 'nlpvars': [],\n",
       "                                              'numvars': ['bmi', 's5', 's4',\n",
       "                                                          'sex', 'bp', 's6',\n",
       "                                                          's1', 'age'],\n",
       "                                              'onehot_dict': {}}))])</pre></div></div></div><div class=\"sk-serial\"><div class=\"sk-item\"><div class=\"sk-estimator sk-toggleable\"><input class=\"sk-toggleable__control sk-hidden--visually\" id=\"fbf575c6-7c6e-4f48-bd69-0f1250ebe92a\" type=\"checkbox\" ><label class=\"sk-toggleable__label\" for=\"fbf575c6-7c6e-4f48-bd69-0f1250ebe92a\">FunctionTransformer</label><div class=\"sk-toggleable__content\"><pre>FunctionTransformer(func=<function create_column_names_onehot at 0x0000021261D08820>,\n",
       "                    kw_args={'catvars': [], 'colsize_dict': {},\n",
       "                             'datesize_dict': {}, 'datevars': [],\n",
       "                             'discretevars': [], 'nlpvars': [],\n",
       "                             'numvars': ['bmi', 's5', 's4', 'sex', 'bp', 's6',\n",
       "                                         's1', 'age'],\n",
       "                             'onehot_dict': {}})</pre></div></div></div></div></div></div></div><div class=\"sk-item\"><div class=\"sk-estimator sk-toggleable\"><input class=\"sk-toggleable__control sk-hidden--visually\" id=\"3bc23bf0-e194-438a-8f40-6b55eeb80a13\" type=\"checkbox\" ><label class=\"sk-toggleable__label\" for=\"3bc23bf0-e194-438a-8f40-6b55eeb80a13\">LGBMRegressor</label><div class=\"sk-toggleable__content\"><pre>LGBMRegressor(device='cpu')</pre></div></div></div></div></div></div></div>"
      ],
      "text/plain": [
       "Pipeline(steps=[('data_pipeline',\n",
       "                 Pipeline(steps=[('scaler_pipeline',\n",
       "                                  Pipeline(steps=[('complete_pipeline',\n",
       "                                                   ColumnTransformer(transformers=[('simpleimputer',\n",
       "                                                                                    SimpleImputer(fill_value=-99,\n",
       "                                                                                                  strategy='constant'),\n",
       "                                                                                    ['bmi',\n",
       "                                                                                     's5',\n",
       "                                                                                     's4',\n",
       "                                                                                     'sex',\n",
       "                                                                                     'bp',\n",
       "                                                                                     's6',\n",
       "                                                                                     's1',\n",
       "                                                                                     'age'])])),\n",
       "                                                  ('scaler',\n",
       "                                                   StandardScaler())])),\n",
       "                                 ('nlp_pipeline',\n",
       "                                  Pipeline(steps=[('NLP',\n",
       "                                                   FunctionTransformer(func=<function create_column_names_onehot at 0x0000021261D08820>,\n",
       "                                                                       kw_args={'catvars': [],\n",
       "                                                                                'colsize_dict': {},\n",
       "                                                                                'datesize_dict': {},\n",
       "                                                                                'datevars': [],\n",
       "                                                                                'discretevars': [],\n",
       "                                                                                'nlpvars': [],\n",
       "                                                                                'numvars': ['bmi',\n",
       "                                                                                            's5',\n",
       "                                                                                            's4',\n",
       "                                                                                            'sex',\n",
       "                                                                                            'bp',\n",
       "                                                                                            's6',\n",
       "                                                                                            's1',\n",
       "                                                                                            'age'],\n",
       "                                                                                'onehot_dict': {}}))]))])),\n",
       "                ('model', LGBMRegressor(device='cpu'))])"
      ]
     },
     "execution_count": 25,
     "metadata": {},
     "output_type": "execute_result"
    }
   ],
   "source": [
    "from sklearn import set_config\n",
    "set_config(display=\"diagram\")\n",
    "sim.xformer\n",
    "# If you have a model in the pipeline, do:\n",
    "sim.modelformer"
   ]
  },
  {
   "cell_type": "code",
   "execution_count": 26,
   "metadata": {},
   "outputs": [
    {
     "data": {
      "image/png": "[encoded data removed]",
      "text/plain": [
       "<Figure size 432x288 with 1 Axes>"
      ]
     },
     "metadata": {
      "needs_background": "light"
     },
     "output_type": "display_data"
    }
   ],
   "source": [
    "lazy.plot_importance()"
   ]
  },
  {
   "cell_type": "code",
   "execution_count": null,
   "metadata": {},
   "outputs": [],
   "source": []
  },
  {
   "cell_type": "code",
   "execution_count": null,
   "metadata": {},
   "outputs": [],
   "source": []
  },
  {
   "cell_type": "code",
   "execution_count": null,
   "metadata": {},
   "outputs": [],
   "source": []
  }
 ],
 "metadata": {
  "kernelspec": {
   "display_name": "Python 3",
   "language": "python",
   "name": "python3"
  },
  "language_info": {
   "codemirror_mode": {
    "name": "ipython",
    "version": 3
   },
   "file_extension": ".py",
   "mimetype": "text/x-python",
   "name": "python",
   "nbconvert_exporter": "python",
   "pygments_lexer": "ipython3",
   "version": "3.8.5"
  }
 },
 "nbformat": 4,
 "nbformat_minor": 4
}
